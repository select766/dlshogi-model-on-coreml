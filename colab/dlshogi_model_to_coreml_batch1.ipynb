{
  "nbformat": 4,
  "nbformat_minor": 0,
  "metadata": {
    "colab": {
      "name": "dlshogi_model_to_coreml_batch1",
      "provenance": []
    },
    "kernelspec": {
      "name": "python3",
      "display_name": "Python 3"
    },
    "language_info": {
      "name": "python"
    },
    "accelerator": "GPU"
  },
  "cells": [
    {
      "cell_type": "code",
      "source": [
        "# 参考 https://colab.research.google.com/github/TadaoYamaoka/ShogiAIBook2/blob/main/notebook/train.ipynb#scrollTo=zAT8jrKysnZS\n",
        "# dlshogiの評価関数モデルをCore ML形式に変換\n",
        "# バッチサイズ1の最もシンプルなモデル"
      ],
      "metadata": {
        "id": "aSt_Ab9xZH1_"
      },
      "execution_count": 1,
      "outputs": []
    },
    {
      "cell_type": "code",
      "execution_count": 2,
      "metadata": {
        "colab": {
          "base_uri": "https://localhost:8080/"
        },
        "id": "jiZA42YQY0Ci",
        "outputId": "0e83a17e-d4cc-401f-a38f-bd1d6661c958"
      },
      "outputs": [
        {
          "output_type": "stream",
          "name": "stdout",
          "text": [
            "Sat Jan 22 19:06:35 JST 2022\n"
          ]
        }
      ],
      "source": [
        "!rm /etc/localtime\n",
        "!ln -s /usr/share/zoneinfo/Asia/Tokyo /etc/localtime\n",
        "!date"
      ]
    },
    {
      "cell_type": "code",
      "source": [
        "from google.colab import drive\n",
        "drive.mount('/content/drive')"
      ],
      "metadata": {
        "colab": {
          "base_uri": "https://localhost:8080/"
        },
        "id": "pXmVGRNgZFjl",
        "outputId": "ba3068a9-f71f-4898-c402-d68fb1bc658b"
      },
      "execution_count": 3,
      "outputs": [
        {
          "output_type": "stream",
          "name": "stdout",
          "text": [
            "Mounted at /content/drive\n"
          ]
        }
      ]
    },
    {
      "cell_type": "code",
      "source": [
        "!ls -l \"/content/drive/My Drive/ShogiAIBookData/\""
      ],
      "metadata": {
        "colab": {
          "base_uri": "https://localhost:8080/"
        },
        "id": "cAJvwdHQZWCv",
        "outputId": "9a7a75e5-fb60-458b-cc05-cc39dead58a0"
      },
      "execution_count": 4,
      "outputs": [
        {
          "output_type": "stream",
          "name": "stdout",
          "text": [
            "total 9932211\n",
            "-r-------- 1 root root 356250760 Sep 10 23:39 dlshogi_with_gct-001.hcpe\n",
            "-r-------- 1 root root 356250760 Sep 10 23:39 dlshogi_with_gct-002.hcpe\n",
            "-r-------- 1 root root 356250760 Sep 10 23:39 dlshogi_with_gct-003.hcpe\n",
            "-r-------- 1 root root 356250760 Sep 10 23:39 dlshogi_with_gct-004.hcpe\n",
            "-r-------- 1 root root 356250760 Sep 10 23:39 dlshogi_with_gct-005.hcpe\n",
            "-r-------- 1 root root 356250760 Sep 10 23:39 dlshogi_with_gct-006.hcpe\n",
            "-r-------- 1 root root 356250760 Sep 10 23:39 dlshogi_with_gct-007.hcpe\n",
            "-r-------- 1 root root 356250760 Sep 10 23:39 dlshogi_with_gct-008.hcpe\n",
            "-r-------- 1 root root 356250760 Sep 10 23:39 dlshogi_with_gct-009.hcpe\n",
            "-r-------- 1 root root 356250760 Sep 10 23:39 dlshogi_with_gct-010.hcpe\n",
            "-r-------- 1 root root 356250760 Sep 10 23:39 dlshogi_with_gct-011.hcpe\n",
            "-r-------- 1 root root 356250760 Sep 10 23:39 dlshogi_with_gct-012.hcpe\n",
            "-r-------- 1 root root 356250760 Sep 10 23:39 dlshogi_with_gct-013.hcpe\n",
            "-r-------- 1 root root 356250760 Sep 10 23:39 dlshogi_with_gct-014.hcpe\n",
            "-r-------- 1 root root 356250760 Sep 10 23:39 dlshogi_with_gct-015.hcpe\n",
            "-r-------- 1 root root 356250760 Sep 10 23:39 dlshogi_with_gct-016.hcpe\n",
            "-r-------- 1 root root 356250760 Sep 10 23:39 dlshogi_with_gct-017.hcpe\n",
            "-r-------- 1 root root 356250760 Sep 10 23:39 dlshogi_with_gct-018.hcpe\n",
            "-r-------- 1 root root 356250760 Sep 10 23:39 dlshogi_with_gct-019.hcpe\n",
            "-r-------- 1 root root 356250760 Sep 10 23:39 dlshogi_with_gct-020.hcpe\n",
            "-r-------- 1 root root 356250760 Sep 10 23:39 dlshogi_with_gct-021.hcpe\n",
            "-r-------- 1 root root 356250760 Sep 10 23:39 dlshogi_with_gct-022.hcpe\n",
            "-r-------- 1 root root 356250760 Sep 10 23:39 dlshogi_with_gct-023.hcpe\n",
            "-r-------- 1 root root 356251368 Sep 10 23:39 dlshogi_with_gct-024.hcpe\n",
            "-r-------- 1 root root    297632 Sep 12 19:22 floodgate16.hcp\n",
            "-r-------- 1 root root  11078976 Sep 11 20:51 floodgate_2019-2021_r3500-001.hcpe\n",
            "-r-------- 1 root root  11078976 Sep 11 20:51 floodgate_2019-2021_r3500-002.hcpe\n",
            "-r-------- 1 root root  11078976 Sep 11 20:51 floodgate_2019-2021_r3500-003.hcpe\n",
            "-r-------- 1 root root  11078976 Sep 11 20:51 floodgate_2019-2021_r3500-004.hcpe\n",
            "-r-------- 1 root root  11078976 Sep 11 20:51 floodgate_2019-2021_r3500-005.hcpe\n",
            "-r-------- 1 root root  11078976 Sep 11 20:51 floodgate_2019-2021_r3500-006.hcpe\n",
            "-r-------- 1 root root  11078976 Sep 11 20:51 floodgate_2019-2021_r3500-007.hcpe\n",
            "-r-------- 1 root root  11078976 Sep 11 20:51 floodgate_2019-2021_r3500-008.hcpe\n",
            "-r-------- 1 root root  11078976 Sep 11 20:51 floodgate_2019-2021_r3500-009.hcpe\n",
            "-r-------- 1 root root  11078976 Sep 11 20:51 floodgate_2019-2021_r3500-010.hcpe\n",
            "-r-------- 1 root root  11078976 Sep 11 20:51 floodgate_2019-2021_r3500-011.hcpe\n",
            "-r-------- 1 root root  11078976 Sep 11 20:51 floodgate_2019-2021_r3500-012.hcpe\n",
            "-r-------- 1 root root  11078976 Sep 11 20:51 floodgate_2019-2021_r3500-013.hcpe\n",
            "-r-------- 1 root root  11078976 Sep 11 20:51 floodgate_2019-2021_r3500-014.hcpe\n",
            "-r-------- 1 root root  11078976 Sep 11 20:51 floodgate_2019-2021_r3500-015.hcpe\n",
            "-r-------- 1 root root  11078976 Sep 11 20:51 floodgate_2019-2021_r3500-016.hcpe\n",
            "-r-------- 1 root root  11078976 Sep 11 20:51 floodgate_2019-2021_r3500-017.hcpe\n",
            "-r-------- 1 root root  11078976 Sep 11 20:51 floodgate_2019-2021_r3500-018.hcpe\n",
            "-r-------- 1 root root  11078976 Sep 11 20:51 floodgate_2019-2021_r3500-019.hcpe\n",
            "-r-------- 1 root root  11078976 Sep 11 20:51 floodgate_2019-2021_r3500-020.hcpe\n",
            "-r-------- 1 root root  11078976 Sep 11 20:51 floodgate_2019-2021_r3500-021.hcpe\n",
            "-r-------- 1 root root  11078976 Sep 11 20:51 floodgate_2019-2021_r3500-022.hcpe\n",
            "-r-------- 1 root root  11078976 Sep 11 20:51 floodgate_2019-2021_r3500-023.hcpe\n",
            "-r-------- 1 root root  11079356 Sep 11 20:51 floodgate_2019-2021_r3500-024.hcpe\n",
            "-r-------- 1 root root  24320000 Sep 11 20:52 floodgate_test_2017-2018_r3500_eval5000.hcpe\n",
            "dr-x------ 2 root root      4096 Oct 11 01:28 log\n",
            "dr-x------ 2 root root      4096 Oct 11 01:29 model\n",
            "-r-------- 1 root root  55417414 Sep 10 23:50 suisho3kai-001.hcpe\n",
            "-r-------- 1 root root  55417414 Sep 10 23:50 suisho3kai-002.hcpe\n",
            "-r-------- 1 root root  55417414 Sep 10 23:50 suisho3kai-003.hcpe\n",
            "-r-------- 1 root root  55417414 Sep 10 23:50 suisho3kai-004.hcpe\n",
            "-r-------- 1 root root  55417414 Sep 10 23:50 suisho3kai-005.hcpe\n",
            "-r-------- 1 root root  55417414 Sep 10 23:50 suisho3kai-006.hcpe\n",
            "-r-------- 1 root root  55417414 Sep 10 23:50 suisho3kai-007.hcpe\n",
            "-r-------- 1 root root  55417414 Sep 10 23:50 suisho3kai-008.hcpe\n",
            "-r-------- 1 root root  55417414 Sep 10 23:50 suisho3kai-009.hcpe\n",
            "-r-------- 1 root root  55417414 Sep 10 23:50 suisho3kai-010.hcpe\n",
            "-r-------- 1 root root  55417414 Sep 10 23:50 suisho3kai-011.hcpe\n",
            "-r-------- 1 root root  55417414 Sep 10 23:50 suisho3kai-012.hcpe\n",
            "-r-------- 1 root root  55417414 Sep 10 23:50 suisho3kai-013.hcpe\n",
            "-r-------- 1 root root  55417414 Sep 10 23:50 suisho3kai-014.hcpe\n",
            "-r-------- 1 root root  55417414 Sep 10 23:50 suisho3kai-015.hcpe\n",
            "-r-------- 1 root root  55417414 Sep 10 23:50 suisho3kai-016.hcpe\n",
            "-r-------- 1 root root  55417414 Sep 10 23:50 suisho3kai-017.hcpe\n",
            "-r-------- 1 root root  55417414 Sep 10 23:50 suisho3kai-018.hcpe\n",
            "-r-------- 1 root root  55417414 Sep 10 23:50 suisho3kai-019.hcpe\n",
            "-r-------- 1 root root  55417414 Sep 10 23:50 suisho3kai-020.hcpe\n",
            "-r-------- 1 root root  55417414 Sep 10 23:50 suisho3kai-021.hcpe\n",
            "-r-------- 1 root root  55417414 Sep 10 23:50 suisho3kai-022.hcpe\n",
            "-r-------- 1 root root  55417414 Sep 10 23:50 suisho3kai-023.hcpe\n",
            "-r-------- 1 root root  55417870 Sep 10 23:50 suisho3kai-024.hcpe\n"
          ]
        }
      ]
    },
    {
      "cell_type": "code",
      "source": [
        "!pip install dlshogi==0.1.1"
      ],
      "metadata": {
        "colab": {
          "base_uri": "https://localhost:8080/"
        },
        "id": "IGsicmDdZo_d",
        "outputId": "06f4ae02-7bd2-4af5-ecee-ce3fe43e2f65"
      },
      "execution_count": 5,
      "outputs": [
        {
          "output_type": "stream",
          "name": "stdout",
          "text": [
            "Collecting dlshogi==0.1.1\n",
            "  Downloading dlshogi-0.1.1-cp37-cp37m-manylinux2010_x86_64.whl (3.3 MB)\n",
            "\u001b[K     |████████████████████████████████| 3.3 MB 13.2 MB/s \n",
            "\u001b[?25hInstalling collected packages: dlshogi\n",
            "Successfully installed dlshogi-0.1.1\n"
          ]
        }
      ]
    },
    {
      "cell_type": "code",
      "source": [
        "!pip install coremltools"
      ],
      "metadata": {
        "colab": {
          "base_uri": "https://localhost:8080/"
        },
        "id": "KU_idB4OdTi6",
        "outputId": "4830911a-6fe6-45a4-e969-fb259444a032"
      },
      "execution_count": 6,
      "outputs": [
        {
          "output_type": "stream",
          "name": "stdout",
          "text": [
            "Collecting coremltools\n",
            "  Downloading coremltools-5.1.0-cp37-none-manylinux1_x86_64.whl (1.6 MB)\n",
            "\u001b[?25l\r\u001b[K     |▏                               | 10 kB 46.1 MB/s eta 0:00:01\r\u001b[K     |▍                               | 20 kB 33.2 MB/s eta 0:00:01\r\u001b[K     |▋                               | 30 kB 20.6 MB/s eta 0:00:01\r\u001b[K     |▉                               | 40 kB 17.4 MB/s eta 0:00:01\r\u001b[K     |█                               | 51 kB 16.7 MB/s eta 0:00:01\r\u001b[K     |█▎                              | 61 kB 15.6 MB/s eta 0:00:01\r\u001b[K     |█▌                              | 71 kB 15.6 MB/s eta 0:00:01\r\u001b[K     |█▊                              | 81 kB 17.2 MB/s eta 0:00:01\r\u001b[K     |██                              | 92 kB 15.3 MB/s eta 0:00:01\r\u001b[K     |██                              | 102 kB 14.0 MB/s eta 0:00:01\r\u001b[K     |██▎                             | 112 kB 14.0 MB/s eta 0:00:01\r\u001b[K     |██▌                             | 122 kB 14.0 MB/s eta 0:00:01\r\u001b[K     |██▊                             | 133 kB 14.0 MB/s eta 0:00:01\r\u001b[K     |███                             | 143 kB 14.0 MB/s eta 0:00:01\r\u001b[K     |███▏                            | 153 kB 14.0 MB/s eta 0:00:01\r\u001b[K     |███▍                            | 163 kB 14.0 MB/s eta 0:00:01\r\u001b[K     |███▋                            | 174 kB 14.0 MB/s eta 0:00:01\r\u001b[K     |███▉                            | 184 kB 14.0 MB/s eta 0:00:01\r\u001b[K     |████                            | 194 kB 14.0 MB/s eta 0:00:01\r\u001b[K     |████▏                           | 204 kB 14.0 MB/s eta 0:00:01\r\u001b[K     |████▍                           | 215 kB 14.0 MB/s eta 0:00:01\r\u001b[K     |████▋                           | 225 kB 14.0 MB/s eta 0:00:01\r\u001b[K     |████▉                           | 235 kB 14.0 MB/s eta 0:00:01\r\u001b[K     |█████                           | 245 kB 14.0 MB/s eta 0:00:01\r\u001b[K     |█████▎                          | 256 kB 14.0 MB/s eta 0:00:01\r\u001b[K     |█████▌                          | 266 kB 14.0 MB/s eta 0:00:01\r\u001b[K     |█████▊                          | 276 kB 14.0 MB/s eta 0:00:01\r\u001b[K     |██████                          | 286 kB 14.0 MB/s eta 0:00:01\r\u001b[K     |██████▏                         | 296 kB 14.0 MB/s eta 0:00:01\r\u001b[K     |██████▎                         | 307 kB 14.0 MB/s eta 0:00:01\r\u001b[K     |██████▌                         | 317 kB 14.0 MB/s eta 0:00:01\r\u001b[K     |██████▊                         | 327 kB 14.0 MB/s eta 0:00:01\r\u001b[K     |███████                         | 337 kB 14.0 MB/s eta 0:00:01\r\u001b[K     |███████▏                        | 348 kB 14.0 MB/s eta 0:00:01\r\u001b[K     |███████▍                        | 358 kB 14.0 MB/s eta 0:00:01\r\u001b[K     |███████▋                        | 368 kB 14.0 MB/s eta 0:00:01\r\u001b[K     |███████▉                        | 378 kB 14.0 MB/s eta 0:00:01\r\u001b[K     |████████                        | 389 kB 14.0 MB/s eta 0:00:01\r\u001b[K     |████████▏                       | 399 kB 14.0 MB/s eta 0:00:01\r\u001b[K     |████████▍                       | 409 kB 14.0 MB/s eta 0:00:01\r\u001b[K     |████████▋                       | 419 kB 14.0 MB/s eta 0:00:01\r\u001b[K     |████████▉                       | 430 kB 14.0 MB/s eta 0:00:01\r\u001b[K     |█████████                       | 440 kB 14.0 MB/s eta 0:00:01\r\u001b[K     |█████████▎                      | 450 kB 14.0 MB/s eta 0:00:01\r\u001b[K     |█████████▌                      | 460 kB 14.0 MB/s eta 0:00:01\r\u001b[K     |█████████▊                      | 471 kB 14.0 MB/s eta 0:00:01\r\u001b[K     |██████████                      | 481 kB 14.0 MB/s eta 0:00:01\r\u001b[K     |██████████▏                     | 491 kB 14.0 MB/s eta 0:00:01\r\u001b[K     |██████████▎                     | 501 kB 14.0 MB/s eta 0:00:01\r\u001b[K     |██████████▌                     | 512 kB 14.0 MB/s eta 0:00:01\r\u001b[K     |██████████▊                     | 522 kB 14.0 MB/s eta 0:00:01\r\u001b[K     |███████████                     | 532 kB 14.0 MB/s eta 0:00:01\r\u001b[K     |███████████▏                    | 542 kB 14.0 MB/s eta 0:00:01\r\u001b[K     |███████████▍                    | 552 kB 14.0 MB/s eta 0:00:01\r\u001b[K     |███████████▋                    | 563 kB 14.0 MB/s eta 0:00:01\r\u001b[K     |███████████▉                    | 573 kB 14.0 MB/s eta 0:00:01\r\u001b[K     |████████████                    | 583 kB 14.0 MB/s eta 0:00:01\r\u001b[K     |████████████▎                   | 593 kB 14.0 MB/s eta 0:00:01\r\u001b[K     |████████████▍                   | 604 kB 14.0 MB/s eta 0:00:01\r\u001b[K     |████████████▋                   | 614 kB 14.0 MB/s eta 0:00:01\r\u001b[K     |████████████▉                   | 624 kB 14.0 MB/s eta 0:00:01\r\u001b[K     |█████████████                   | 634 kB 14.0 MB/s eta 0:00:01\r\u001b[K     |█████████████▎                  | 645 kB 14.0 MB/s eta 0:00:01\r\u001b[K     |█████████████▌                  | 655 kB 14.0 MB/s eta 0:00:01\r\u001b[K     |█████████████▊                  | 665 kB 14.0 MB/s eta 0:00:01\r\u001b[K     |██████████████                  | 675 kB 14.0 MB/s eta 0:00:01\r\u001b[K     |██████████████▏                 | 686 kB 14.0 MB/s eta 0:00:01\r\u001b[K     |██████████████▍                 | 696 kB 14.0 MB/s eta 0:00:01\r\u001b[K     |██████████████▌                 | 706 kB 14.0 MB/s eta 0:00:01\r\u001b[K     |██████████████▊                 | 716 kB 14.0 MB/s eta 0:00:01\r\u001b[K     |███████████████                 | 727 kB 14.0 MB/s eta 0:00:01\r\u001b[K     |███████████████▏                | 737 kB 14.0 MB/s eta 0:00:01\r\u001b[K     |███████████████▍                | 747 kB 14.0 MB/s eta 0:00:01\r\u001b[K     |███████████████▋                | 757 kB 14.0 MB/s eta 0:00:01\r\u001b[K     |███████████████▉                | 768 kB 14.0 MB/s eta 0:00:01\r\u001b[K     |████████████████                | 778 kB 14.0 MB/s eta 0:00:01\r\u001b[K     |████████████████▎               | 788 kB 14.0 MB/s eta 0:00:01\r\u001b[K     |████████████████▍               | 798 kB 14.0 MB/s eta 0:00:01\r\u001b[K     |████████████████▋               | 808 kB 14.0 MB/s eta 0:00:01\r\u001b[K     |████████████████▉               | 819 kB 14.0 MB/s eta 0:00:01\r\u001b[K     |█████████████████               | 829 kB 14.0 MB/s eta 0:00:01\r\u001b[K     |█████████████████▎              | 839 kB 14.0 MB/s eta 0:00:01\r\u001b[K     |█████████████████▌              | 849 kB 14.0 MB/s eta 0:00:01\r\u001b[K     |█████████████████▊              | 860 kB 14.0 MB/s eta 0:00:01\r\u001b[K     |██████████████████              | 870 kB 14.0 MB/s eta 0:00:01\r\u001b[K     |██████████████████▏             | 880 kB 14.0 MB/s eta 0:00:01\r\u001b[K     |██████████████████▍             | 890 kB 14.0 MB/s eta 0:00:01\r\u001b[K     |██████████████████▌             | 901 kB 14.0 MB/s eta 0:00:01\r\u001b[K     |██████████████████▊             | 911 kB 14.0 MB/s eta 0:00:01\r\u001b[K     |███████████████████             | 921 kB 14.0 MB/s eta 0:00:01\r\u001b[K     |███████████████████▏            | 931 kB 14.0 MB/s eta 0:00:01\r\u001b[K     |███████████████████▍            | 942 kB 14.0 MB/s eta 0:00:01\r\u001b[K     |███████████████████▋            | 952 kB 14.0 MB/s eta 0:00:01\r\u001b[K     |███████████████████▉            | 962 kB 14.0 MB/s eta 0:00:01\r\u001b[K     |████████████████████            | 972 kB 14.0 MB/s eta 0:00:01\r\u001b[K     |████████████████████▎           | 983 kB 14.0 MB/s eta 0:00:01\r\u001b[K     |████████████████████▌           | 993 kB 14.0 MB/s eta 0:00:01\r\u001b[K     |████████████████████▋           | 1.0 MB 14.0 MB/s eta 0:00:01\r\u001b[K     |████████████████████▉           | 1.0 MB 14.0 MB/s eta 0:00:01\r\u001b[K     |█████████████████████           | 1.0 MB 14.0 MB/s eta 0:00:01\r\u001b[K     |█████████████████████▎          | 1.0 MB 14.0 MB/s eta 0:00:01\r\u001b[K     |█████████████████████▌          | 1.0 MB 14.0 MB/s eta 0:00:01\r\u001b[K     |█████████████████████▊          | 1.1 MB 14.0 MB/s eta 0:00:01\r\u001b[K     |██████████████████████          | 1.1 MB 14.0 MB/s eta 0:00:01\r\u001b[K     |██████████████████████▏         | 1.1 MB 14.0 MB/s eta 0:00:01\r\u001b[K     |██████████████████████▍         | 1.1 MB 14.0 MB/s eta 0:00:01\r\u001b[K     |██████████████████████▌         | 1.1 MB 14.0 MB/s eta 0:00:01\r\u001b[K     |██████████████████████▊         | 1.1 MB 14.0 MB/s eta 0:00:01\r\u001b[K     |███████████████████████         | 1.1 MB 14.0 MB/s eta 0:00:01\r\u001b[K     |███████████████████████▏        | 1.1 MB 14.0 MB/s eta 0:00:01\r\u001b[K     |███████████████████████▍        | 1.1 MB 14.0 MB/s eta 0:00:01\r\u001b[K     |███████████████████████▋        | 1.1 MB 14.0 MB/s eta 0:00:01\r\u001b[K     |███████████████████████▉        | 1.2 MB 14.0 MB/s eta 0:00:01\r\u001b[K     |████████████████████████        | 1.2 MB 14.0 MB/s eta 0:00:01\r\u001b[K     |████████████████████████▎       | 1.2 MB 14.0 MB/s eta 0:00:01\r\u001b[K     |████████████████████████▌       | 1.2 MB 14.0 MB/s eta 0:00:01\r\u001b[K     |████████████████████████▋       | 1.2 MB 14.0 MB/s eta 0:00:01\r\u001b[K     |████████████████████████▉       | 1.2 MB 14.0 MB/s eta 0:00:01\r\u001b[K     |█████████████████████████       | 1.2 MB 14.0 MB/s eta 0:00:01\r\u001b[K     |█████████████████████████▎      | 1.2 MB 14.0 MB/s eta 0:00:01\r\u001b[K     |█████████████████████████▌      | 1.2 MB 14.0 MB/s eta 0:00:01\r\u001b[K     |█████████████████████████▊      | 1.2 MB 14.0 MB/s eta 0:00:01\r\u001b[K     |██████████████████████████      | 1.3 MB 14.0 MB/s eta 0:00:01\r\u001b[K     |██████████████████████████▏     | 1.3 MB 14.0 MB/s eta 0:00:01\r\u001b[K     |██████████████████████████▍     | 1.3 MB 14.0 MB/s eta 0:00:01\r\u001b[K     |██████████████████████████▋     | 1.3 MB 14.0 MB/s eta 0:00:01\r\u001b[K     |██████████████████████████▊     | 1.3 MB 14.0 MB/s eta 0:00:01\r\u001b[K     |███████████████████████████     | 1.3 MB 14.0 MB/s eta 0:00:01\r\u001b[K     |███████████████████████████▏    | 1.3 MB 14.0 MB/s eta 0:00:01\r\u001b[K     |███████████████████████████▍    | 1.3 MB 14.0 MB/s eta 0:00:01\r\u001b[K     |███████████████████████████▋    | 1.3 MB 14.0 MB/s eta 0:00:01\r\u001b[K     |███████████████████████████▉    | 1.4 MB 14.0 MB/s eta 0:00:01\r\u001b[K     |████████████████████████████    | 1.4 MB 14.0 MB/s eta 0:00:01\r\u001b[K     |████████████████████████████▎   | 1.4 MB 14.0 MB/s eta 0:00:01\r\u001b[K     |████████████████████████████▌   | 1.4 MB 14.0 MB/s eta 0:00:01\r\u001b[K     |████████████████████████████▊   | 1.4 MB 14.0 MB/s eta 0:00:01\r\u001b[K     |████████████████████████████▉   | 1.4 MB 14.0 MB/s eta 0:00:01\r\u001b[K     |█████████████████████████████   | 1.4 MB 14.0 MB/s eta 0:00:01\r\u001b[K     |█████████████████████████████▎  | 1.4 MB 14.0 MB/s eta 0:00:01\r\u001b[K     |█████████████████████████████▌  | 1.4 MB 14.0 MB/s eta 0:00:01\r\u001b[K     |█████████████████████████████▊  | 1.4 MB 14.0 MB/s eta 0:00:01\r\u001b[K     |██████████████████████████████  | 1.5 MB 14.0 MB/s eta 0:00:01\r\u001b[K     |██████████████████████████████▏ | 1.5 MB 14.0 MB/s eta 0:00:01\r\u001b[K     |██████████████████████████████▍ | 1.5 MB 14.0 MB/s eta 0:00:01\r\u001b[K     |██████████████████████████████▋ | 1.5 MB 14.0 MB/s eta 0:00:01\r\u001b[K     |██████████████████████████████▊ | 1.5 MB 14.0 MB/s eta 0:00:01\r\u001b[K     |███████████████████████████████ | 1.5 MB 14.0 MB/s eta 0:00:01\r\u001b[K     |███████████████████████████████▏| 1.5 MB 14.0 MB/s eta 0:00:01\r\u001b[K     |███████████████████████████████▍| 1.5 MB 14.0 MB/s eta 0:00:01\r\u001b[K     |███████████████████████████████▋| 1.5 MB 14.0 MB/s eta 0:00:01\r\u001b[K     |███████████████████████████████▉| 1.5 MB 14.0 MB/s eta 0:00:01\r\u001b[K     |████████████████████████████████| 1.6 MB 14.0 MB/s \n",
            "\u001b[?25hRequirement already satisfied: numpy>=1.14.5 in /usr/local/lib/python3.7/dist-packages (from coremltools) (1.19.5)\n",
            "Requirement already satisfied: sympy in /usr/local/lib/python3.7/dist-packages (from coremltools) (1.7.1)\n",
            "Requirement already satisfied: protobuf>=3.1.0 in /usr/local/lib/python3.7/dist-packages (from coremltools) (3.17.3)\n",
            "Requirement already satisfied: packaging in /usr/local/lib/python3.7/dist-packages (from coremltools) (21.3)\n",
            "Requirement already satisfied: tqdm in /usr/local/lib/python3.7/dist-packages (from coremltools) (4.62.3)\n",
            "Requirement already satisfied: six>=1.9 in /usr/local/lib/python3.7/dist-packages (from protobuf>=3.1.0->coremltools) (1.15.0)\n",
            "Requirement already satisfied: pyparsing!=3.0.5,>=2.0.2 in /usr/local/lib/python3.7/dist-packages (from packaging->coremltools) (3.0.6)\n",
            "Requirement already satisfied: mpmath>=0.19 in /usr/local/lib/python3.7/dist-packages (from sympy->coremltools) (1.2.1)\n",
            "Installing collected packages: coremltools\n",
            "Successfully installed coremltools-5.1.0\n"
          ]
        }
      ]
    },
    {
      "cell_type": "code",
      "source": [
        "%cd /content/ShogiAIBook"
      ],
      "metadata": {
        "colab": {
          "base_uri": "https://localhost:8080/"
        },
        "id": "U8J6GHjLaUq-",
        "outputId": "9541bb04-013d-4928-8998-47233643a545"
      },
      "execution_count": 7,
      "outputs": [
        {
          "output_type": "stream",
          "name": "stdout",
          "text": [
            "[Errno 2] No such file or directory: '/content/ShogiAIBook'\n",
            "/content\n"
          ]
        }
      ]
    },
    {
      "cell_type": "code",
      "source": [
        "!ln -s \"/content/drive/My Drive/ShogiAIBook/log\"   ./log\n",
        "!ln -s \"/content/drive/My Drive/ShogiAIBook/model\" ./model\n",
        "!ln -s \"/content/drive/My Drive/ShogiAIBookData\"   ./data"
      ],
      "metadata": {
        "id": "hwJEDnrxaiUm"
      },
      "execution_count": 8,
      "outputs": []
    },
    {
      "cell_type": "code",
      "source": [
        "!ls -ld ./data/*"
      ],
      "metadata": {
        "colab": {
          "base_uri": "https://localhost:8080/"
        },
        "id": "SMEqshSgajpV",
        "outputId": "709f4b20-a690-4e78-9fd0-53e09a3e2d8f"
      },
      "execution_count": 9,
      "outputs": [
        {
          "output_type": "stream",
          "name": "stdout",
          "text": [
            "-r-------- 1 root root 356250760 Sep 10 23:39 ./data/dlshogi_with_gct-001.hcpe\n",
            "-r-------- 1 root root 356250760 Sep 10 23:39 ./data/dlshogi_with_gct-002.hcpe\n",
            "-r-------- 1 root root 356250760 Sep 10 23:39 ./data/dlshogi_with_gct-003.hcpe\n",
            "-r-------- 1 root root 356250760 Sep 10 23:39 ./data/dlshogi_with_gct-004.hcpe\n",
            "-r-------- 1 root root 356250760 Sep 10 23:39 ./data/dlshogi_with_gct-005.hcpe\n",
            "-r-------- 1 root root 356250760 Sep 10 23:39 ./data/dlshogi_with_gct-006.hcpe\n",
            "-r-------- 1 root root 356250760 Sep 10 23:39 ./data/dlshogi_with_gct-007.hcpe\n",
            "-r-------- 1 root root 356250760 Sep 10 23:39 ./data/dlshogi_with_gct-008.hcpe\n",
            "-r-------- 1 root root 356250760 Sep 10 23:39 ./data/dlshogi_with_gct-009.hcpe\n",
            "-r-------- 1 root root 356250760 Sep 10 23:39 ./data/dlshogi_with_gct-010.hcpe\n",
            "-r-------- 1 root root 356250760 Sep 10 23:39 ./data/dlshogi_with_gct-011.hcpe\n",
            "-r-------- 1 root root 356250760 Sep 10 23:39 ./data/dlshogi_with_gct-012.hcpe\n",
            "-r-------- 1 root root 356250760 Sep 10 23:39 ./data/dlshogi_with_gct-013.hcpe\n",
            "-r-------- 1 root root 356250760 Sep 10 23:39 ./data/dlshogi_with_gct-014.hcpe\n",
            "-r-------- 1 root root 356250760 Sep 10 23:39 ./data/dlshogi_with_gct-015.hcpe\n",
            "-r-------- 1 root root 356250760 Sep 10 23:39 ./data/dlshogi_with_gct-016.hcpe\n",
            "-r-------- 1 root root 356250760 Sep 10 23:39 ./data/dlshogi_with_gct-017.hcpe\n",
            "-r-------- 1 root root 356250760 Sep 10 23:39 ./data/dlshogi_with_gct-018.hcpe\n",
            "-r-------- 1 root root 356250760 Sep 10 23:39 ./data/dlshogi_with_gct-019.hcpe\n",
            "-r-------- 1 root root 356250760 Sep 10 23:39 ./data/dlshogi_with_gct-020.hcpe\n",
            "-r-------- 1 root root 356250760 Sep 10 23:39 ./data/dlshogi_with_gct-021.hcpe\n",
            "-r-------- 1 root root 356250760 Sep 10 23:39 ./data/dlshogi_with_gct-022.hcpe\n",
            "-r-------- 1 root root 356250760 Sep 10 23:39 ./data/dlshogi_with_gct-023.hcpe\n",
            "-r-------- 1 root root 356251368 Sep 10 23:39 ./data/dlshogi_with_gct-024.hcpe\n",
            "-r-------- 1 root root    297632 Sep 12 19:22 ./data/floodgate16.hcp\n",
            "-r-------- 1 root root  11078976 Sep 11 20:51 ./data/floodgate_2019-2021_r3500-001.hcpe\n",
            "-r-------- 1 root root  11078976 Sep 11 20:51 ./data/floodgate_2019-2021_r3500-002.hcpe\n",
            "-r-------- 1 root root  11078976 Sep 11 20:51 ./data/floodgate_2019-2021_r3500-003.hcpe\n",
            "-r-------- 1 root root  11078976 Sep 11 20:51 ./data/floodgate_2019-2021_r3500-004.hcpe\n",
            "-r-------- 1 root root  11078976 Sep 11 20:51 ./data/floodgate_2019-2021_r3500-005.hcpe\n",
            "-r-------- 1 root root  11078976 Sep 11 20:51 ./data/floodgate_2019-2021_r3500-006.hcpe\n",
            "-r-------- 1 root root  11078976 Sep 11 20:51 ./data/floodgate_2019-2021_r3500-007.hcpe\n",
            "-r-------- 1 root root  11078976 Sep 11 20:51 ./data/floodgate_2019-2021_r3500-008.hcpe\n",
            "-r-------- 1 root root  11078976 Sep 11 20:51 ./data/floodgate_2019-2021_r3500-009.hcpe\n",
            "-r-------- 1 root root  11078976 Sep 11 20:51 ./data/floodgate_2019-2021_r3500-010.hcpe\n",
            "-r-------- 1 root root  11078976 Sep 11 20:51 ./data/floodgate_2019-2021_r3500-011.hcpe\n",
            "-r-------- 1 root root  11078976 Sep 11 20:51 ./data/floodgate_2019-2021_r3500-012.hcpe\n",
            "-r-------- 1 root root  11078976 Sep 11 20:51 ./data/floodgate_2019-2021_r3500-013.hcpe\n",
            "-r-------- 1 root root  11078976 Sep 11 20:51 ./data/floodgate_2019-2021_r3500-014.hcpe\n",
            "-r-------- 1 root root  11078976 Sep 11 20:51 ./data/floodgate_2019-2021_r3500-015.hcpe\n",
            "-r-------- 1 root root  11078976 Sep 11 20:51 ./data/floodgate_2019-2021_r3500-016.hcpe\n",
            "-r-------- 1 root root  11078976 Sep 11 20:51 ./data/floodgate_2019-2021_r3500-017.hcpe\n",
            "-r-------- 1 root root  11078976 Sep 11 20:51 ./data/floodgate_2019-2021_r3500-018.hcpe\n",
            "-r-------- 1 root root  11078976 Sep 11 20:51 ./data/floodgate_2019-2021_r3500-019.hcpe\n",
            "-r-------- 1 root root  11078976 Sep 11 20:51 ./data/floodgate_2019-2021_r3500-020.hcpe\n",
            "-r-------- 1 root root  11078976 Sep 11 20:51 ./data/floodgate_2019-2021_r3500-021.hcpe\n",
            "-r-------- 1 root root  11078976 Sep 11 20:51 ./data/floodgate_2019-2021_r3500-022.hcpe\n",
            "-r-------- 1 root root  11078976 Sep 11 20:51 ./data/floodgate_2019-2021_r3500-023.hcpe\n",
            "-r-------- 1 root root  11079356 Sep 11 20:51 ./data/floodgate_2019-2021_r3500-024.hcpe\n",
            "-r-------- 1 root root  24320000 Sep 11 20:52 ./data/floodgate_test_2017-2018_r3500_eval5000.hcpe\n",
            "dr-x------ 2 root root      4096 Oct 11 01:28 ./data/log\n",
            "dr-x------ 2 root root      4096 Oct 11 01:29 ./data/model\n",
            "-r-------- 1 root root  55417414 Sep 10 23:50 ./data/suisho3kai-001.hcpe\n",
            "-r-------- 1 root root  55417414 Sep 10 23:50 ./data/suisho3kai-002.hcpe\n",
            "-r-------- 1 root root  55417414 Sep 10 23:50 ./data/suisho3kai-003.hcpe\n",
            "-r-------- 1 root root  55417414 Sep 10 23:50 ./data/suisho3kai-004.hcpe\n",
            "-r-------- 1 root root  55417414 Sep 10 23:50 ./data/suisho3kai-005.hcpe\n",
            "-r-------- 1 root root  55417414 Sep 10 23:50 ./data/suisho3kai-006.hcpe\n",
            "-r-------- 1 root root  55417414 Sep 10 23:50 ./data/suisho3kai-007.hcpe\n",
            "-r-------- 1 root root  55417414 Sep 10 23:50 ./data/suisho3kai-008.hcpe\n",
            "-r-------- 1 root root  55417414 Sep 10 23:50 ./data/suisho3kai-009.hcpe\n",
            "-r-------- 1 root root  55417414 Sep 10 23:50 ./data/suisho3kai-010.hcpe\n",
            "-r-------- 1 root root  55417414 Sep 10 23:50 ./data/suisho3kai-011.hcpe\n",
            "-r-------- 1 root root  55417414 Sep 10 23:50 ./data/suisho3kai-012.hcpe\n",
            "-r-------- 1 root root  55417414 Sep 10 23:50 ./data/suisho3kai-013.hcpe\n",
            "-r-------- 1 root root  55417414 Sep 10 23:50 ./data/suisho3kai-014.hcpe\n",
            "-r-------- 1 root root  55417414 Sep 10 23:50 ./data/suisho3kai-015.hcpe\n",
            "-r-------- 1 root root  55417414 Sep 10 23:50 ./data/suisho3kai-016.hcpe\n",
            "-r-------- 1 root root  55417414 Sep 10 23:50 ./data/suisho3kai-017.hcpe\n",
            "-r-------- 1 root root  55417414 Sep 10 23:50 ./data/suisho3kai-018.hcpe\n",
            "-r-------- 1 root root  55417414 Sep 10 23:50 ./data/suisho3kai-019.hcpe\n",
            "-r-------- 1 root root  55417414 Sep 10 23:50 ./data/suisho3kai-020.hcpe\n",
            "-r-------- 1 root root  55417414 Sep 10 23:50 ./data/suisho3kai-021.hcpe\n",
            "-r-------- 1 root root  55417414 Sep 10 23:50 ./data/suisho3kai-022.hcpe\n",
            "-r-------- 1 root root  55417414 Sep 10 23:50 ./data/suisho3kai-023.hcpe\n",
            "-r-------- 1 root root  55417870 Sep 10 23:50 ./data/suisho3kai-024.hcpe\n"
          ]
        }
      ]
    },
    {
      "cell_type": "code",
      "source": [
        "!cp ./data/model/checkpoint_resnet10_swish-072.pth ./model/\n",
        "!cp ./data/model/model_resnet10_swish-072 ./model/"
      ],
      "metadata": {
        "id": "64oy_aT2aqnp"
      },
      "execution_count": 10,
      "outputs": []
    },
    {
      "cell_type": "code",
      "source": [
        "!ls -l ./model/"
      ],
      "metadata": {
        "colab": {
          "base_uri": "https://localhost:8080/"
        },
        "id": "yEH2QBexbT7N",
        "outputId": "43df4a03-e550-4cda-c92a-9fbb0a0b44dc"
      },
      "execution_count": 11,
      "outputs": [
        {
          "output_type": "stream",
          "name": "stdout",
          "text": [
            "total 188968\n",
            "-rw------- 1 root root 88334907 Jan 22 19:07 checkpoint_resnet10_swish-072.pth\n",
            "-rw------- 1 root root 29376703 Jan 22 17:50 DlShogiResnet10Swish.mlmodel\n",
            "-rw------- 1 root root 27347240 Jan 22 19:07 model_resnet10_swish-072\n",
            "-rw------- 1 root root 48443392 Jan 22 18:46 SampleIO.bin\n"
          ]
        }
      ]
    },
    {
      "cell_type": "code",
      "source": [
        "import torch\n",
        "from dlshogi.common import *\n",
        "from dlshogi.network.policy_value_network import policy_value_network\n",
        "from dlshogi import serializers\n",
        "from dlshogi import cppshogi"
      ],
      "metadata": {
        "id": "I-gN6lOQb4x-"
      },
      "execution_count": 20,
      "outputs": []
    },
    {
      "cell_type": "code",
      "source": [
        "device = \"cpu\""
      ],
      "metadata": {
        "id": "3cFMi1TrejhP"
      },
      "execution_count": 13,
      "outputs": []
    },
    {
      "cell_type": "code",
      "source": [
        "model = policy_value_network(\"resnet10_swish\", add_sigmoid=True)"
      ],
      "metadata": {
        "id": "keeEyw2ndrRW"
      },
      "execution_count": 14,
      "outputs": []
    },
    {
      "cell_type": "code",
      "source": [
        "model.set_swish(False)#swishをx*sigmoid(x)で計算するモード"
      ],
      "metadata": {
        "id": "QmgLlMJrd3wX"
      },
      "execution_count": 15,
      "outputs": []
    },
    {
      "cell_type": "code",
      "source": [
        "serializers.load_npz(\"./model/model_resnet10_swish-072\", model, False)"
      ],
      "metadata": {
        "id": "f-rxxDsQd8Vm"
      },
      "execution_count": 16,
      "outputs": []
    },
    {
      "cell_type": "code",
      "source": [
        "model.eval()"
      ],
      "metadata": {
        "colab": {
          "base_uri": "https://localhost:8080/"
        },
        "id": "Q_yWKg6DeFU-",
        "outputId": "22ada636-8f1d-4db9-94db-ce0c67221405"
      },
      "execution_count": 17,
      "outputs": [
        {
          "output_type": "execute_result",
          "data": {
            "text/plain": [
              "PolicyValueNetworkAddSigmoid(\n",
              "  (l1_1_1): Conv2d(62, 192, kernel_size=(3, 3), stride=(1, 1), padding=(1, 1), bias=False)\n",
              "  (l1_1_2): Conv2d(62, 192, kernel_size=(1, 1), stride=(1, 1), bias=False)\n",
              "  (l1_2): Conv2d(57, 192, kernel_size=(1, 1), stride=(1, 1), bias=False)\n",
              "  (l2): Conv2d(192, 192, kernel_size=(3, 3), stride=(1, 1), padding=(1, 1), bias=False)\n",
              "  (l3): Conv2d(192, 192, kernel_size=(3, 3), stride=(1, 1), padding=(1, 1), bias=False)\n",
              "  (l4): Conv2d(192, 192, kernel_size=(3, 3), stride=(1, 1), padding=(1, 1), bias=False)\n",
              "  (l5): Conv2d(192, 192, kernel_size=(3, 3), stride=(1, 1), padding=(1, 1), bias=False)\n",
              "  (l6): Conv2d(192, 192, kernel_size=(3, 3), stride=(1, 1), padding=(1, 1), bias=False)\n",
              "  (l7): Conv2d(192, 192, kernel_size=(3, 3), stride=(1, 1), padding=(1, 1), bias=False)\n",
              "  (l8): Conv2d(192, 192, kernel_size=(3, 3), stride=(1, 1), padding=(1, 1), bias=False)\n",
              "  (l9): Conv2d(192, 192, kernel_size=(3, 3), stride=(1, 1), padding=(1, 1), bias=False)\n",
              "  (l10): Conv2d(192, 192, kernel_size=(3, 3), stride=(1, 1), padding=(1, 1), bias=False)\n",
              "  (l11): Conv2d(192, 192, kernel_size=(3, 3), stride=(1, 1), padding=(1, 1), bias=False)\n",
              "  (l12): Conv2d(192, 192, kernel_size=(3, 3), stride=(1, 1), padding=(1, 1), bias=False)\n",
              "  (l13): Conv2d(192, 192, kernel_size=(3, 3), stride=(1, 1), padding=(1, 1), bias=False)\n",
              "  (l14): Conv2d(192, 192, kernel_size=(3, 3), stride=(1, 1), padding=(1, 1), bias=False)\n",
              "  (l15): Conv2d(192, 192, kernel_size=(3, 3), stride=(1, 1), padding=(1, 1), bias=False)\n",
              "  (l16): Conv2d(192, 192, kernel_size=(3, 3), stride=(1, 1), padding=(1, 1), bias=False)\n",
              "  (l17): Conv2d(192, 192, kernel_size=(3, 3), stride=(1, 1), padding=(1, 1), bias=False)\n",
              "  (l18): Conv2d(192, 192, kernel_size=(3, 3), stride=(1, 1), padding=(1, 1), bias=False)\n",
              "  (l19): Conv2d(192, 192, kernel_size=(3, 3), stride=(1, 1), padding=(1, 1), bias=False)\n",
              "  (l20): Conv2d(192, 192, kernel_size=(3, 3), stride=(1, 1), padding=(1, 1), bias=False)\n",
              "  (l21): Conv2d(192, 192, kernel_size=(3, 3), stride=(1, 1), padding=(1, 1), bias=False)\n",
              "  (l22): Conv2d(192, 27, kernel_size=(1, 1), stride=(1, 1), bias=False)\n",
              "  (l22_2): Bias()\n",
              "  (l22_v): Conv2d(192, 27, kernel_size=(1, 1), stride=(1, 1), bias=False)\n",
              "  (l23_v): Linear(in_features=2187, out_features=256, bias=True)\n",
              "  (l24_v): Linear(in_features=256, out_features=1, bias=True)\n",
              "  (norm1): BatchNorm2d(192, eps=1e-05, momentum=0.1, affine=True, track_running_stats=True)\n",
              "  (norm2): BatchNorm2d(192, eps=1e-05, momentum=0.1, affine=True, track_running_stats=True)\n",
              "  (norm3): BatchNorm2d(192, eps=1e-05, momentum=0.1, affine=True, track_running_stats=True)\n",
              "  (norm4): BatchNorm2d(192, eps=1e-05, momentum=0.1, affine=True, track_running_stats=True)\n",
              "  (norm5): BatchNorm2d(192, eps=1e-05, momentum=0.1, affine=True, track_running_stats=True)\n",
              "  (norm6): BatchNorm2d(192, eps=1e-05, momentum=0.1, affine=True, track_running_stats=True)\n",
              "  (norm7): BatchNorm2d(192, eps=1e-05, momentum=0.1, affine=True, track_running_stats=True)\n",
              "  (norm8): BatchNorm2d(192, eps=1e-05, momentum=0.1, affine=True, track_running_stats=True)\n",
              "  (norm9): BatchNorm2d(192, eps=1e-05, momentum=0.1, affine=True, track_running_stats=True)\n",
              "  (norm10): BatchNorm2d(192, eps=1e-05, momentum=0.1, affine=True, track_running_stats=True)\n",
              "  (norm11): BatchNorm2d(192, eps=1e-05, momentum=0.1, affine=True, track_running_stats=True)\n",
              "  (norm12): BatchNorm2d(192, eps=1e-05, momentum=0.1, affine=True, track_running_stats=True)\n",
              "  (norm13): BatchNorm2d(192, eps=1e-05, momentum=0.1, affine=True, track_running_stats=True)\n",
              "  (norm14): BatchNorm2d(192, eps=1e-05, momentum=0.1, affine=True, track_running_stats=True)\n",
              "  (norm15): BatchNorm2d(192, eps=1e-05, momentum=0.1, affine=True, track_running_stats=True)\n",
              "  (norm16): BatchNorm2d(192, eps=1e-05, momentum=0.1, affine=True, track_running_stats=True)\n",
              "  (norm17): BatchNorm2d(192, eps=1e-05, momentum=0.1, affine=True, track_running_stats=True)\n",
              "  (norm18): BatchNorm2d(192, eps=1e-05, momentum=0.1, affine=True, track_running_stats=True)\n",
              "  (norm19): BatchNorm2d(192, eps=1e-05, momentum=0.1, affine=True, track_running_stats=True)\n",
              "  (norm20): BatchNorm2d(192, eps=1e-05, momentum=0.1, affine=True, track_running_stats=True)\n",
              "  (norm21): BatchNorm2d(192, eps=1e-05, momentum=0.1, affine=True, track_running_stats=True)\n",
              "  (norm22_v): BatchNorm2d(27, eps=1e-05, momentum=0.1, affine=True, track_running_stats=True)\n",
              "  (swish): Swish()\n",
              ")"
            ]
          },
          "metadata": {},
          "execution_count": 17
        }
      ]
    },
    {
      "cell_type": "code",
      "source": [
        "def mini_batch(hcpevec):\n",
        "    features1 = np.empty((len(hcpevec), FEATURES1_NUM, 9, 9), dtype=np.float32)\n",
        "    features2 = np.empty((len(hcpevec), FEATURES2_NUM, 9, 9), dtype=np.float32)\n",
        "    move = np.empty((len(hcpevec)), dtype=np.int64)\n",
        "    result = np.empty((len(hcpevec)), dtype=np.float32)\n",
        "    value = np.empty((len(hcpevec)), dtype=np.float32)\n",
        "\n",
        "    cppshogi.hcpe_decode_with_value(hcpevec, features1, features2, move, result, value)\n",
        "\n",
        "    z = result.astype(np.float32) - value + 0.5\n",
        "\n",
        "    return (torch.tensor(features1).to(device),\n",
        "            torch.tensor(features2).to(device),\n",
        "            torch.tensor(move.astype(np.int64)).to(device),\n",
        "            torch.tensor(result.reshape((len(hcpevec), 1))).to(device),\n",
        "            torch.tensor(z).to(device),\n",
        "            torch.tensor(value.reshape((len(value), 1))).to(device)\n",
        "            )"
      ],
      "metadata": {
        "id": "n6A_qfzAeHL3"
      },
      "execution_count": 21,
      "outputs": []
    },
    {
      "cell_type": "code",
      "source": [
        "batchsize = 1\n",
        "hcpevec = np.array([([ 88, 164,  73,  33,  12, 215,  87,  33, 126, 142,  77,  33,  44, 175,  66, 120,  20, 194, 171,  16, 158,  77,  33,  44, 215,  95,  33,  62, 142,  73,  33,  12], 0, 7739, 1, 0)] * batchsize, HuffmanCodedPosAndEval)\n",
        "x1, x2, t1, t2, z, value = mini_batch(hcpevec)"
      ],
      "metadata": {
        "id": "BlJmk7Nceb-d"
      },
      "execution_count": 22,
      "outputs": []
    },
    {
      "cell_type": "code",
      "source": [
        "traced_model = torch.jit.trace(model, (x1, x2))"
      ],
      "metadata": {
        "id": "Q1oHnpqbedmX"
      },
      "execution_count": 23,
      "outputs": []
    },
    {
      "cell_type": "code",
      "source": [
        "traced_model"
      ],
      "metadata": {
        "colab": {
          "base_uri": "https://localhost:8080/"
        },
        "id": "HE11NfaUe3h2",
        "outputId": "6f12a869-8432-4e8d-f9e2-ab55aed51e77"
      },
      "execution_count": 24,
      "outputs": [
        {
          "output_type": "execute_result",
          "data": {
            "text/plain": [
              "PolicyValueNetworkAddSigmoid(\n",
              "  original_name=PolicyValueNetworkAddSigmoid\n",
              "  (l1_1_1): Conv2d(original_name=Conv2d)\n",
              "  (l1_1_2): Conv2d(original_name=Conv2d)\n",
              "  (l1_2): Conv2d(original_name=Conv2d)\n",
              "  (l2): Conv2d(original_name=Conv2d)\n",
              "  (l3): Conv2d(original_name=Conv2d)\n",
              "  (l4): Conv2d(original_name=Conv2d)\n",
              "  (l5): Conv2d(original_name=Conv2d)\n",
              "  (l6): Conv2d(original_name=Conv2d)\n",
              "  (l7): Conv2d(original_name=Conv2d)\n",
              "  (l8): Conv2d(original_name=Conv2d)\n",
              "  (l9): Conv2d(original_name=Conv2d)\n",
              "  (l10): Conv2d(original_name=Conv2d)\n",
              "  (l11): Conv2d(original_name=Conv2d)\n",
              "  (l12): Conv2d(original_name=Conv2d)\n",
              "  (l13): Conv2d(original_name=Conv2d)\n",
              "  (l14): Conv2d(original_name=Conv2d)\n",
              "  (l15): Conv2d(original_name=Conv2d)\n",
              "  (l16): Conv2d(original_name=Conv2d)\n",
              "  (l17): Conv2d(original_name=Conv2d)\n",
              "  (l18): Conv2d(original_name=Conv2d)\n",
              "  (l19): Conv2d(original_name=Conv2d)\n",
              "  (l20): Conv2d(original_name=Conv2d)\n",
              "  (l21): Conv2d(original_name=Conv2d)\n",
              "  (l22): Conv2d(original_name=Conv2d)\n",
              "  (l22_2): Bias(original_name=Bias)\n",
              "  (l22_v): Conv2d(original_name=Conv2d)\n",
              "  (l23_v): Linear(original_name=Linear)\n",
              "  (l24_v): Linear(original_name=Linear)\n",
              "  (norm1): BatchNorm2d(original_name=BatchNorm2d)\n",
              "  (norm2): BatchNorm2d(original_name=BatchNorm2d)\n",
              "  (norm3): BatchNorm2d(original_name=BatchNorm2d)\n",
              "  (norm4): BatchNorm2d(original_name=BatchNorm2d)\n",
              "  (norm5): BatchNorm2d(original_name=BatchNorm2d)\n",
              "  (norm6): BatchNorm2d(original_name=BatchNorm2d)\n",
              "  (norm7): BatchNorm2d(original_name=BatchNorm2d)\n",
              "  (norm8): BatchNorm2d(original_name=BatchNorm2d)\n",
              "  (norm9): BatchNorm2d(original_name=BatchNorm2d)\n",
              "  (norm10): BatchNorm2d(original_name=BatchNorm2d)\n",
              "  (norm11): BatchNorm2d(original_name=BatchNorm2d)\n",
              "  (norm12): BatchNorm2d(original_name=BatchNorm2d)\n",
              "  (norm13): BatchNorm2d(original_name=BatchNorm2d)\n",
              "  (norm14): BatchNorm2d(original_name=BatchNorm2d)\n",
              "  (norm15): BatchNorm2d(original_name=BatchNorm2d)\n",
              "  (norm16): BatchNorm2d(original_name=BatchNorm2d)\n",
              "  (norm17): BatchNorm2d(original_name=BatchNorm2d)\n",
              "  (norm18): BatchNorm2d(original_name=BatchNorm2d)\n",
              "  (norm19): BatchNorm2d(original_name=BatchNorm2d)\n",
              "  (norm20): BatchNorm2d(original_name=BatchNorm2d)\n",
              "  (norm21): BatchNorm2d(original_name=BatchNorm2d)\n",
              "  (norm22_v): BatchNorm2d(original_name=BatchNorm2d)\n",
              "  (swish): Swish(original_name=Swish)\n",
              ")"
            ]
          },
          "metadata": {},
          "execution_count": 24
        }
      ]
    },
    {
      "cell_type": "code",
      "source": [
        "x1.shape"
      ],
      "metadata": {
        "colab": {
          "base_uri": "https://localhost:8080/"
        },
        "id": "74-iTpY5e4pX",
        "outputId": "1a2bfbf7-3e1b-41cf-dae2-c1138cc0e05b"
      },
      "execution_count": 25,
      "outputs": [
        {
          "output_type": "execute_result",
          "data": {
            "text/plain": [
              "torch.Size([1, 62, 9, 9])"
            ]
          },
          "metadata": {},
          "execution_count": 25
        }
      ]
    },
    {
      "cell_type": "code",
      "source": [
        "x2.shape"
      ],
      "metadata": {
        "colab": {
          "base_uri": "https://localhost:8080/"
        },
        "id": "aNaDLjfMe8nH",
        "outputId": "8d1b89b2-40f4-4e32-8d22-316c689629df"
      },
      "execution_count": 26,
      "outputs": [
        {
          "output_type": "execute_result",
          "data": {
            "text/plain": [
              "torch.Size([1, 57, 9, 9])"
            ]
          },
          "metadata": {},
          "execution_count": 26
        }
      ]
    },
    {
      "cell_type": "code",
      "source": [
        "import coremltools as ct"
      ],
      "metadata": {
        "colab": {
          "base_uri": "https://localhost:8080/"
        },
        "id": "gYltkatVfRKM",
        "outputId": "c6dc6b1b-c198-44be-df0f-6844827c7613"
      },
      "execution_count": 27,
      "outputs": [
        {
          "output_type": "stream",
          "name": "stderr",
          "text": [
            "WARNING:root:scikit-learn version 1.0.2 is not supported. Minimum required version: 0.17. Maximum required version: 0.19.2. Disabling scikit-learn conversion API.\n",
            "WARNING:root:TensorFlow version 2.7.0 has not been tested with coremltools. You may run into unexpected errors. TensorFlow 2.5.0 is the most recent version that has been tested.\n",
            "WARNING:root:Keras version 2.7.0 has not been tested with coremltools. You may run into unexpected errors. Keras 2.2.4 is the most recent version that has been tested.\n",
            "WARNING:root:Torch version 1.10.0+cu111 has not been tested with coremltools. You may run into unexpected errors. Torch 1.9.1 is the most recent version that has been tested.\n"
          ]
        }
      ]
    },
    {
      "cell_type": "code",
      "source": [
        "ct_input_x1 = ct.TensorType(name='x1', shape=(1, 62, 9, 9))\n",
        "ct_input_x2 = ct.TensorType(name='x2', shape=(1, 57, 9, 9))"
      ],
      "metadata": {
        "id": "Fx_siN4Ze-ge"
      },
      "execution_count": 28,
      "outputs": []
    },
    {
      "cell_type": "code",
      "source": [
        "mlmodel = ct.convert(traced_model, inputs=[ct_input_x1, ct_input_x2])"
      ],
      "metadata": {
        "colab": {
          "base_uri": "https://localhost:8080/"
        },
        "id": "bOawdbWDfPEu",
        "outputId": "2d125d71-1a8e-4d46-f8db-39b24b6bfb34"
      },
      "execution_count": 29,
      "outputs": [
        {
          "output_type": "stream",
          "name": "stderr",
          "text": [
            "WARNING:root:Tuple detected at graph output. This will be flattened in the converted model.\n",
            "Converting Frontend ==> MIL Ops: 100%|█████████▉| 440/442 [00:00<00:00, 2526.10 ops/s]\n",
            "Running MIL Common passes:   0%|          | 0/34 [00:00<?, ? passes/s]/usr/local/lib/python3.7/dist-packages/coremltools/converters/mil/mil/passes/name_sanitization_utils.py:129: UserWarning: Output, '577', of the source model, has been renamed to 'var_577' in the Core ML model.\n",
            "  warnings.warn(msg.format(var.name, new_name))\n",
            "/usr/local/lib/python3.7/dist-packages/coremltools/converters/mil/mil/passes/name_sanitization_utils.py:129: UserWarning: Output, '611', of the source model, has been renamed to 'var_611' in the Core ML model.\n",
            "  warnings.warn(msg.format(var.name, new_name))\n",
            "Running MIL Common passes: 100%|██████████| 34/34 [00:00<00:00, 174.26 passes/s]\n",
            "Running MIL Clean up passes: 100%|██████████| 9/9 [00:00<00:00, 168.18 passes/s]\n",
            "Translating MIL ==> NeuralNetwork Ops: 100%|██████████| 273/273 [00:00<00:00, 287.04 ops/s]\n"
          ]
        }
      ]
    },
    {
      "cell_type": "code",
      "source": [
        "# macでないと実行不可\n",
        "# results = mlmodel.predict({\"x1\": x1.numpy(), \"x2\": x2.numpy()})"
      ],
      "metadata": {
        "id": "syhJVQi8fa8O"
      },
      "execution_count": 30,
      "outputs": []
    },
    {
      "cell_type": "code",
      "source": [
        "# このままだと、出力変数の名前がvar_577のような実装依存の値になり、Swift側での受け取りに不便なので名前を固定する\n",
        "spec = mlmodel.get_spec()\n",
        "move_name, result_name = mlmodel.output_description\n",
        "ct.utils.rename_feature(spec, move_name, \"move\")\n",
        "ct.utils.rename_feature(spec, result_name, \"result\")\n",
        "mlmodel = ct.models.MLModel(spec)"
      ],
      "metadata": {
        "id": "W0Owx-IkTRlI"
      },
      "execution_count": 53,
      "outputs": []
    },
    {
      "cell_type": "code",
      "source": [
        "mlmodel.save(\"./model/DlShogiResnet10Swish.mlmodel\")"
      ],
      "metadata": {
        "id": "jcqTzcy5fhN2"
      },
      "execution_count": 54,
      "outputs": []
    },
    {
      "cell_type": "code",
      "source": [
        "move, game_result = model(x1, x2)"
      ],
      "metadata": {
        "id": "QQvYleKegYTa"
      },
      "execution_count": 32,
      "outputs": []
    },
    {
      "cell_type": "code",
      "source": [
        "move, game_result"
      ],
      "metadata": {
        "colab": {
          "base_uri": "https://localhost:8080/"
        },
        "id": "YPwdg7y2gsh9",
        "outputId": "1a7168e2-1e93-495e-84dc-643589de7676"
      },
      "execution_count": 33,
      "outputs": [
        {
          "output_type": "execute_result",
          "data": {
            "text/plain": [
              "(tensor([[-3.1853, -3.2401, -1.9737,  ..., -3.1441, -2.1586, -2.9530]],\n",
              "        grad_fn=<AddBackward0>),\n",
              " tensor([[0.5265]], grad_fn=<SigmoidBackward0>))"
            ]
          },
          "metadata": {},
          "execution_count": 33
        }
      ]
    },
    {
      "cell_type": "code",
      "source": [
        "move.shape"
      ],
      "metadata": {
        "colab": {
          "base_uri": "https://localhost:8080/"
        },
        "id": "S03DwuSR-0dh",
        "outputId": "6710b109-6731-49c3-9f4b-25bd24d9bed4"
      },
      "execution_count": 34,
      "outputs": [
        {
          "output_type": "execute_result",
          "data": {
            "text/plain": [
              "torch.Size([1, 2187])"
            ]
          },
          "metadata": {},
          "execution_count": 34
        }
      ]
    },
    {
      "cell_type": "code",
      "source": [
        "game_result.shape"
      ],
      "metadata": {
        "colab": {
          "base_uri": "https://localhost:8080/"
        },
        "id": "wXPWW4QR-2Ys",
        "outputId": "b07ce130-2d07-4c9c-b1ac-f9338cd7298f"
      },
      "execution_count": 35,
      "outputs": [
        {
          "output_type": "execute_result",
          "data": {
            "text/plain": [
              "torch.Size([1, 1])"
            ]
          },
          "metadata": {},
          "execution_count": 35
        }
      ]
    },
    {
      "cell_type": "code",
      "source": [
        ""
      ],
      "metadata": {
        "id": "rEmP_X-BTBE4"
      },
      "execution_count": null,
      "outputs": []
    }
  ]
}