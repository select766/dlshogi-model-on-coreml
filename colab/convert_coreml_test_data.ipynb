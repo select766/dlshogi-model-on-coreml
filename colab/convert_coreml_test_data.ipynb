{
  "nbformat": 4,
  "nbformat_minor": 0,
  "metadata": {
    "colab": {
      "name": "convert_coreml_test_data",
      "provenance": []
    },
    "kernelspec": {
      "name": "python3",
      "display_name": "Python 3"
    },
    "language_info": {
      "name": "python"
    },
    "accelerator": "GPU"
  },
  "cells": [
    {
      "cell_type": "code",
      "source": [
        "!pip install cshogi\n",
        "!pip install dlshogi==0.1.1"
      ],
      "metadata": {
        "colab": {
          "base_uri": "https://localhost:8080/"
        },
        "id": "S6CdGRjnDjS9",
        "outputId": "6012610e-d5e4-464a-c1d6-7a411e8cdf5c"
      },
      "execution_count": null,
      "outputs": [
        {
          "output_type": "stream",
          "name": "stdout",
          "text": [
            "Requirement already satisfied: cshogi in /usr/local/lib/python3.7/dist-packages (0.3.6)\n",
            "Requirement already satisfied: dlshogi==0.1.1 in /usr/local/lib/python3.7/dist-packages (0.1.1)\n"
          ]
        }
      ]
    },
    {
      "cell_type": "code",
      "execution_count": null,
      "metadata": {
        "id": "lAD759Y292VG"
      },
      "outputs": [],
      "source": [
        "#!git clone https://github.com/TadaoYamaoka/python-dlshogi2.git"
      ]
    },
    {
      "cell_type": "code",
      "source": [
        "#%cd python-dlshogi2\n",
        "#!pip install -e ."
      ],
      "metadata": {
        "id": "dFnMVl0GAaSM"
      },
      "execution_count": null,
      "outputs": []
    },
    {
      "cell_type": "code",
      "source": [
        "from google.colab import drive\n",
        "drive.mount('/content/drive')"
      ],
      "metadata": {
        "colab": {
          "base_uri": "https://localhost:8080/"
        },
        "id": "dDwXUcFgAbfr",
        "outputId": "10b67c92-b633-41e0-90e7-c590b9d41fc5"
      },
      "execution_count": null,
      "outputs": [
        {
          "output_type": "stream",
          "name": "stdout",
          "text": [
            "Drive already mounted at /content/drive; to attempt to forcibly remount, call drive.mount(\"/content/drive\", force_remount=True).\n"
          ]
        }
      ]
    },
    {
      "cell_type": "code",
      "source": [
        "import torch\n",
        "# from pydlshogi2.dataloader import HcpeDataLoader"
      ],
      "metadata": {
        "id": "bocM187qAjns"
      },
      "execution_count": null,
      "outputs": []
    },
    {
      "cell_type": "code",
      "source": [
        "device = torch.device(\"cpu\")"
      ],
      "metadata": {
        "id": "nZfc5Yk0CK9U"
      },
      "execution_count": null,
      "outputs": []
    },
    {
      "cell_type": "code",
      "source": [
        "from dlshogi.data_loader import DataLoader"
      ],
      "metadata": {
        "id": "apYgq0pSGGcg"
      },
      "execution_count": null,
      "outputs": []
    },
    {
      "cell_type": "code",
      "source": [
        "train_dataloader = DataLoader(DataLoader.load_files([\"/content/drive/My Drive/ShogiAIBookData/dlshogi_with_gct-001.hcpe\"]), 32, device, shuffle=False)"
      ],
      "metadata": {
        "id": "Bzp-qbVxGLoe"
      },
      "execution_count": null,
      "outputs": []
    },
    {
      "cell_type": "code",
      "source": [
        "from dlshogi.common import *\n",
        "from dlshogi.network.policy_value_network import policy_value_network\n",
        "from dlshogi import serializers\n",
        "from dlshogi import cppshogi"
      ],
      "metadata": {
        "id": "sttsEMbYBczD"
      },
      "execution_count": null,
      "outputs": []
    },
    {
      "cell_type": "code",
      "source": [
        "model = policy_value_network(\"resnet10_swish\", add_sigmoid=True)\n",
        "model.set_swish(False)#swishをx*sigmoid(x)で計算するモード\n",
        "serializers.load_npz(\"/content/drive/My Drive/ShogiAIBook/model/model_resnet10_swish-072\", model, False)"
      ],
      "metadata": {
        "id": "CM1ymw5qDGkt"
      },
      "execution_count": null,
      "outputs": []
    },
    {
      "cell_type": "code",
      "source": [
        "model.eval()"
      ],
      "metadata": {
        "colab": {
          "base_uri": "https://localhost:8080/"
        },
        "id": "zl0lm5EfDosT",
        "outputId": "a3707bfe-ecaf-4ff8-9003-6a83eab35d17"
      },
      "execution_count": null,
      "outputs": [
        {
          "output_type": "execute_result",
          "data": {
            "text/plain": [
              "PolicyValueNetworkAddSigmoid(\n",
              "  (l1_1_1): Conv2d(62, 192, kernel_size=(3, 3), stride=(1, 1), padding=(1, 1), bias=False)\n",
              "  (l1_1_2): Conv2d(62, 192, kernel_size=(1, 1), stride=(1, 1), bias=False)\n",
              "  (l1_2): Conv2d(57, 192, kernel_size=(1, 1), stride=(1, 1), bias=False)\n",
              "  (l2): Conv2d(192, 192, kernel_size=(3, 3), stride=(1, 1), padding=(1, 1), bias=False)\n",
              "  (l3): Conv2d(192, 192, kernel_size=(3, 3), stride=(1, 1), padding=(1, 1), bias=False)\n",
              "  (l4): Conv2d(192, 192, kernel_size=(3, 3), stride=(1, 1), padding=(1, 1), bias=False)\n",
              "  (l5): Conv2d(192, 192, kernel_size=(3, 3), stride=(1, 1), padding=(1, 1), bias=False)\n",
              "  (l6): Conv2d(192, 192, kernel_size=(3, 3), stride=(1, 1), padding=(1, 1), bias=False)\n",
              "  (l7): Conv2d(192, 192, kernel_size=(3, 3), stride=(1, 1), padding=(1, 1), bias=False)\n",
              "  (l8): Conv2d(192, 192, kernel_size=(3, 3), stride=(1, 1), padding=(1, 1), bias=False)\n",
              "  (l9): Conv2d(192, 192, kernel_size=(3, 3), stride=(1, 1), padding=(1, 1), bias=False)\n",
              "  (l10): Conv2d(192, 192, kernel_size=(3, 3), stride=(1, 1), padding=(1, 1), bias=False)\n",
              "  (l11): Conv2d(192, 192, kernel_size=(3, 3), stride=(1, 1), padding=(1, 1), bias=False)\n",
              "  (l12): Conv2d(192, 192, kernel_size=(3, 3), stride=(1, 1), padding=(1, 1), bias=False)\n",
              "  (l13): Conv2d(192, 192, kernel_size=(3, 3), stride=(1, 1), padding=(1, 1), bias=False)\n",
              "  (l14): Conv2d(192, 192, kernel_size=(3, 3), stride=(1, 1), padding=(1, 1), bias=False)\n",
              "  (l15): Conv2d(192, 192, kernel_size=(3, 3), stride=(1, 1), padding=(1, 1), bias=False)\n",
              "  (l16): Conv2d(192, 192, kernel_size=(3, 3), stride=(1, 1), padding=(1, 1), bias=False)\n",
              "  (l17): Conv2d(192, 192, kernel_size=(3, 3), stride=(1, 1), padding=(1, 1), bias=False)\n",
              "  (l18): Conv2d(192, 192, kernel_size=(3, 3), stride=(1, 1), padding=(1, 1), bias=False)\n",
              "  (l19): Conv2d(192, 192, kernel_size=(3, 3), stride=(1, 1), padding=(1, 1), bias=False)\n",
              "  (l20): Conv2d(192, 192, kernel_size=(3, 3), stride=(1, 1), padding=(1, 1), bias=False)\n",
              "  (l21): Conv2d(192, 192, kernel_size=(3, 3), stride=(1, 1), padding=(1, 1), bias=False)\n",
              "  (l22): Conv2d(192, 27, kernel_size=(1, 1), stride=(1, 1), bias=False)\n",
              "  (l22_2): Bias()\n",
              "  (l22_v): Conv2d(192, 27, kernel_size=(1, 1), stride=(1, 1), bias=False)\n",
              "  (l23_v): Linear(in_features=2187, out_features=256, bias=True)\n",
              "  (l24_v): Linear(in_features=256, out_features=1, bias=True)\n",
              "  (norm1): BatchNorm2d(192, eps=1e-05, momentum=0.1, affine=True, track_running_stats=True)\n",
              "  (norm2): BatchNorm2d(192, eps=1e-05, momentum=0.1, affine=True, track_running_stats=True)\n",
              "  (norm3): BatchNorm2d(192, eps=1e-05, momentum=0.1, affine=True, track_running_stats=True)\n",
              "  (norm4): BatchNorm2d(192, eps=1e-05, momentum=0.1, affine=True, track_running_stats=True)\n",
              "  (norm5): BatchNorm2d(192, eps=1e-05, momentum=0.1, affine=True, track_running_stats=True)\n",
              "  (norm6): BatchNorm2d(192, eps=1e-05, momentum=0.1, affine=True, track_running_stats=True)\n",
              "  (norm7): BatchNorm2d(192, eps=1e-05, momentum=0.1, affine=True, track_running_stats=True)\n",
              "  (norm8): BatchNorm2d(192, eps=1e-05, momentum=0.1, affine=True, track_running_stats=True)\n",
              "  (norm9): BatchNorm2d(192, eps=1e-05, momentum=0.1, affine=True, track_running_stats=True)\n",
              "  (norm10): BatchNorm2d(192, eps=1e-05, momentum=0.1, affine=True, track_running_stats=True)\n",
              "  (norm11): BatchNorm2d(192, eps=1e-05, momentum=0.1, affine=True, track_running_stats=True)\n",
              "  (norm12): BatchNorm2d(192, eps=1e-05, momentum=0.1, affine=True, track_running_stats=True)\n",
              "  (norm13): BatchNorm2d(192, eps=1e-05, momentum=0.1, affine=True, track_running_stats=True)\n",
              "  (norm14): BatchNorm2d(192, eps=1e-05, momentum=0.1, affine=True, track_running_stats=True)\n",
              "  (norm15): BatchNorm2d(192, eps=1e-05, momentum=0.1, affine=True, track_running_stats=True)\n",
              "  (norm16): BatchNorm2d(192, eps=1e-05, momentum=0.1, affine=True, track_running_stats=True)\n",
              "  (norm17): BatchNorm2d(192, eps=1e-05, momentum=0.1, affine=True, track_running_stats=True)\n",
              "  (norm18): BatchNorm2d(192, eps=1e-05, momentum=0.1, affine=True, track_running_stats=True)\n",
              "  (norm19): BatchNorm2d(192, eps=1e-05, momentum=0.1, affine=True, track_running_stats=True)\n",
              "  (norm20): BatchNorm2d(192, eps=1e-05, momentum=0.1, affine=True, track_running_stats=True)\n",
              "  (norm21): BatchNorm2d(192, eps=1e-05, momentum=0.1, affine=True, track_running_stats=True)\n",
              "  (norm22_v): BatchNorm2d(27, eps=1e-05, momentum=0.1, affine=True, track_running_stats=True)\n",
              "  (swish): Swish()\n",
              ")"
            ]
          },
          "metadata": {},
          "execution_count": 11
        }
      ]
    },
    {
      "cell_type": "code",
      "source": [
        "x1s = []\n",
        "x2s = []\n",
        "moves = []\n",
        "results = []\n",
        "n_batch = 32\n",
        "for x1, x2, move, result, value in train_dataloader:\n",
        "  # x1 = [32, 62, 9, 9], x2 = [32, 57, 9, 9]\n",
        "  pred_move, pred_result = model(x1, x2)\n",
        "  # pred_mode: [32, 2187], pred_result: [32, 1]\n",
        "  x1s.append(x1.detach().numpy())\n",
        "  x2s.append(x2.detach().numpy())\n",
        "  moves.append(pred_move.detach().numpy())\n",
        "  results.append(pred_result.detach().numpy())\n",
        "  if len(x1s) >= n_batch:\n",
        "    break"
      ],
      "metadata": {
        "id": "ItwvmzTtFL_s"
      },
      "execution_count": null,
      "outputs": []
    },
    {
      "cell_type": "code",
      "source": [
        "with open(\"/content/drive/My Drive/ShogiAIBook/model/SampleIO.bin\", \"wb\") as f:\n",
        "  for arys in [x1s, x2s, moves, results]:\n",
        "    d = np.concatenate(arys, axis=0).tobytes()\n",
        "    f.write(d)"
      ],
      "metadata": {
        "id": "J-8AFHWiJX6b"
      },
      "execution_count": null,
      "outputs": []
    },
    {
      "cell_type": "code",
      "source": [
        ""
      ],
      "metadata": {
        "id": "mK_BKiHULnT8"
      },
      "execution_count": null,
      "outputs": []
    }
  ]
}