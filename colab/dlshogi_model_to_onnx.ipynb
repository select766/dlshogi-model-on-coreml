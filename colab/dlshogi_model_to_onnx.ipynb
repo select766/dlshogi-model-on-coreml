{
  "nbformat": 4,
  "nbformat_minor": 0,
  "metadata": {
    "colab": {
      "name": "dlshogi_model_to_onnx.ipynb",
      "provenance": []
    },
    "kernelspec": {
      "name": "python3",
      "display_name": "Python 3"
    },
    "language_info": {
      "name": "python"
    },
    "accelerator": "GPU"
  },
  "cells": [
    {
      "cell_type": "code",
      "source": [
        "# 参考 https://colab.research.google.com/github/TadaoYamaoka/ShogiAIBook2/blob/main/notebook/train.ipynb#scrollTo=zAT8jrKysnZS"
      ],
      "metadata": {
        "id": "aSt_Ab9xZH1_"
      },
      "execution_count": null,
      "outputs": []
    },
    {
      "cell_type": "code",
      "execution_count": null,
      "metadata": {
        "colab": {
          "base_uri": "https://localhost:8080/"
        },
        "id": "jiZA42YQY0Ci",
        "outputId": "6d66f31d-75ab-42ea-8dcd-8dc87791a33d"
      },
      "outputs": [
        {
          "output_type": "stream",
          "name": "stdout",
          "text": [
            "Wed Jan 12 22:18:21 JST 2022\n"
          ]
        }
      ],
      "source": [
        "!rm /etc/localtime\n",
        "!ln -s /usr/share/zoneinfo/Asia/Tokyo /etc/localtime\n",
        "!date"
      ]
    },
    {
      "cell_type": "code",
      "source": [
        "from google.colab import drive\n",
        "drive.mount('/content/drive')"
      ],
      "metadata": {
        "colab": {
          "base_uri": "https://localhost:8080/"
        },
        "id": "pXmVGRNgZFjl",
        "outputId": "d9d3a58d-3e88-4993-8de8-397193265f95"
      },
      "execution_count": null,
      "outputs": [
        {
          "output_type": "stream",
          "name": "stdout",
          "text": [
            "Mounted at /content/drive\n"
          ]
        }
      ]
    },
    {
      "cell_type": "code",
      "source": [
        "!ls -l \"/content/drive/My Drive/shogi/ShogiAIBookData/\""
      ],
      "metadata": {
        "colab": {
          "base_uri": "https://localhost:8080/"
        },
        "id": "cAJvwdHQZWCv",
        "outputId": "228662d0-4acf-49a6-facc-be1b88028e4c"
      },
      "execution_count": null,
      "outputs": [
        {
          "output_type": "stream",
          "name": "stdout",
          "text": [
            "total 9932211\n",
            "-r-------- 1 root root 356250760 Sep 10 23:39 dlshogi_with_gct-001.hcpe\n",
            "-r-------- 1 root root 356250760 Sep 10 23:39 dlshogi_with_gct-002.hcpe\n",
            "-r-------- 1 root root 356250760 Sep 10 23:39 dlshogi_with_gct-003.hcpe\n",
            "-r-------- 1 root root 356250760 Sep 10 23:39 dlshogi_with_gct-004.hcpe\n",
            "-r-------- 1 root root 356250760 Sep 10 23:39 dlshogi_with_gct-005.hcpe\n",
            "-r-------- 1 root root 356250760 Sep 10 23:39 dlshogi_with_gct-006.hcpe\n",
            "-r-------- 1 root root 356250760 Sep 10 23:39 dlshogi_with_gct-007.hcpe\n",
            "-r-------- 1 root root 356250760 Sep 10 23:39 dlshogi_with_gct-008.hcpe\n",
            "-r-------- 1 root root 356250760 Sep 10 23:39 dlshogi_with_gct-009.hcpe\n",
            "-r-------- 1 root root 356250760 Sep 10 23:39 dlshogi_with_gct-010.hcpe\n",
            "-r-------- 1 root root 356250760 Sep 10 23:39 dlshogi_with_gct-011.hcpe\n",
            "-r-------- 1 root root 356250760 Sep 10 23:39 dlshogi_with_gct-012.hcpe\n",
            "-r-------- 1 root root 356250760 Sep 10 23:39 dlshogi_with_gct-013.hcpe\n",
            "-r-------- 1 root root 356250760 Sep 10 23:39 dlshogi_with_gct-014.hcpe\n",
            "-r-------- 1 root root 356250760 Sep 10 23:39 dlshogi_with_gct-015.hcpe\n",
            "-r-------- 1 root root 356250760 Sep 10 23:39 dlshogi_with_gct-016.hcpe\n",
            "-r-------- 1 root root 356250760 Sep 10 23:39 dlshogi_with_gct-017.hcpe\n",
            "-r-------- 1 root root 356250760 Sep 10 23:39 dlshogi_with_gct-018.hcpe\n",
            "-r-------- 1 root root 356250760 Sep 10 23:39 dlshogi_with_gct-019.hcpe\n",
            "-r-------- 1 root root 356250760 Sep 10 23:39 dlshogi_with_gct-020.hcpe\n",
            "-r-------- 1 root root 356250760 Sep 10 23:39 dlshogi_with_gct-021.hcpe\n",
            "-r-------- 1 root root 356250760 Sep 10 23:39 dlshogi_with_gct-022.hcpe\n",
            "-r-------- 1 root root 356250760 Sep 10 23:39 dlshogi_with_gct-023.hcpe\n",
            "-r-------- 1 root root 356251368 Sep 10 23:39 dlshogi_with_gct-024.hcpe\n",
            "-r-------- 1 root root    297632 Sep 12 19:22 floodgate16.hcp\n",
            "-r-------- 1 root root  11078976 Sep 11 20:51 floodgate_2019-2021_r3500-001.hcpe\n",
            "-r-------- 1 root root  11078976 Sep 11 20:51 floodgate_2019-2021_r3500-002.hcpe\n",
            "-r-------- 1 root root  11078976 Sep 11 20:51 floodgate_2019-2021_r3500-003.hcpe\n",
            "-r-------- 1 root root  11078976 Sep 11 20:51 floodgate_2019-2021_r3500-004.hcpe\n",
            "-r-------- 1 root root  11078976 Sep 11 20:51 floodgate_2019-2021_r3500-005.hcpe\n",
            "-r-------- 1 root root  11078976 Sep 11 20:51 floodgate_2019-2021_r3500-006.hcpe\n",
            "-r-------- 1 root root  11078976 Sep 11 20:51 floodgate_2019-2021_r3500-007.hcpe\n",
            "-r-------- 1 root root  11078976 Sep 11 20:51 floodgate_2019-2021_r3500-008.hcpe\n",
            "-r-------- 1 root root  11078976 Sep 11 20:51 floodgate_2019-2021_r3500-009.hcpe\n",
            "-r-------- 1 root root  11078976 Sep 11 20:51 floodgate_2019-2021_r3500-010.hcpe\n",
            "-r-------- 1 root root  11078976 Sep 11 20:51 floodgate_2019-2021_r3500-011.hcpe\n",
            "-r-------- 1 root root  11078976 Sep 11 20:51 floodgate_2019-2021_r3500-012.hcpe\n",
            "-r-------- 1 root root  11078976 Sep 11 20:51 floodgate_2019-2021_r3500-013.hcpe\n",
            "-r-------- 1 root root  11078976 Sep 11 20:51 floodgate_2019-2021_r3500-014.hcpe\n",
            "-r-------- 1 root root  11078976 Sep 11 20:51 floodgate_2019-2021_r3500-015.hcpe\n",
            "-r-------- 1 root root  11078976 Sep 11 20:51 floodgate_2019-2021_r3500-016.hcpe\n",
            "-r-------- 1 root root  11078976 Sep 11 20:51 floodgate_2019-2021_r3500-017.hcpe\n",
            "-r-------- 1 root root  11078976 Sep 11 20:51 floodgate_2019-2021_r3500-018.hcpe\n",
            "-r-------- 1 root root  11078976 Sep 11 20:51 floodgate_2019-2021_r3500-019.hcpe\n",
            "-r-------- 1 root root  11078976 Sep 11 20:51 floodgate_2019-2021_r3500-020.hcpe\n",
            "-r-------- 1 root root  11078976 Sep 11 20:51 floodgate_2019-2021_r3500-021.hcpe\n",
            "-r-------- 1 root root  11078976 Sep 11 20:51 floodgate_2019-2021_r3500-022.hcpe\n",
            "-r-------- 1 root root  11078976 Sep 11 20:51 floodgate_2019-2021_r3500-023.hcpe\n",
            "-r-------- 1 root root  11079356 Sep 11 20:51 floodgate_2019-2021_r3500-024.hcpe\n",
            "-r-------- 1 root root  24320000 Sep 11 20:52 floodgate_test_2017-2018_r3500_eval5000.hcpe\n",
            "dr-x------ 2 root root      4096 Oct 11 01:28 log\n",
            "dr-x------ 2 root root      4096 Oct 11 01:29 model\n",
            "-r-------- 1 root root  55417414 Sep 10 23:50 suisho3kai-001.hcpe\n",
            "-r-------- 1 root root  55417414 Sep 10 23:50 suisho3kai-002.hcpe\n",
            "-r-------- 1 root root  55417414 Sep 10 23:50 suisho3kai-003.hcpe\n",
            "-r-------- 1 root root  55417414 Sep 10 23:50 suisho3kai-004.hcpe\n",
            "-r-------- 1 root root  55417414 Sep 10 23:50 suisho3kai-005.hcpe\n",
            "-r-------- 1 root root  55417414 Sep 10 23:50 suisho3kai-006.hcpe\n",
            "-r-------- 1 root root  55417414 Sep 10 23:50 suisho3kai-007.hcpe\n",
            "-r-------- 1 root root  55417414 Sep 10 23:50 suisho3kai-008.hcpe\n",
            "-r-------- 1 root root  55417414 Sep 10 23:50 suisho3kai-009.hcpe\n",
            "-r-------- 1 root root  55417414 Sep 10 23:50 suisho3kai-010.hcpe\n",
            "-r-------- 1 root root  55417414 Sep 10 23:50 suisho3kai-011.hcpe\n",
            "-r-------- 1 root root  55417414 Sep 10 23:50 suisho3kai-012.hcpe\n",
            "-r-------- 1 root root  55417414 Sep 10 23:50 suisho3kai-013.hcpe\n",
            "-r-------- 1 root root  55417414 Sep 10 23:50 suisho3kai-014.hcpe\n",
            "-r-------- 1 root root  55417414 Sep 10 23:50 suisho3kai-015.hcpe\n",
            "-r-------- 1 root root  55417414 Sep 10 23:50 suisho3kai-016.hcpe\n",
            "-r-------- 1 root root  55417414 Sep 10 23:50 suisho3kai-017.hcpe\n",
            "-r-------- 1 root root  55417414 Sep 10 23:50 suisho3kai-018.hcpe\n",
            "-r-------- 1 root root  55417414 Sep 10 23:50 suisho3kai-019.hcpe\n",
            "-r-------- 1 root root  55417414 Sep 10 23:50 suisho3kai-020.hcpe\n",
            "-r-------- 1 root root  55417414 Sep 10 23:50 suisho3kai-021.hcpe\n",
            "-r-------- 1 root root  55417414 Sep 10 23:50 suisho3kai-022.hcpe\n",
            "-r-------- 1 root root  55417414 Sep 10 23:50 suisho3kai-023.hcpe\n",
            "-r-------- 1 root root  55417870 Sep 10 23:50 suisho3kai-024.hcpe\n"
          ]
        }
      ]
    },
    {
      "cell_type": "code",
      "source": [
        "!pip install dlshogi==0.1.1"
      ],
      "metadata": {
        "colab": {
          "base_uri": "https://localhost:8080/"
        },
        "id": "IGsicmDdZo_d",
        "outputId": "16a36826-910c-42d4-bd3b-a7ef6450ef3c"
      },
      "execution_count": null,
      "outputs": [
        {
          "output_type": "stream",
          "name": "stdout",
          "text": [
            "Collecting dlshogi==0.1.1\n",
            "  Downloading dlshogi-0.1.1-cp37-cp37m-manylinux2010_x86_64.whl (3.3 MB)\n",
            "\u001b[K     |████████████████████████████████| 3.3 MB 8.2 MB/s \n",
            "\u001b[?25hInstalling collected packages: dlshogi\n",
            "Successfully installed dlshogi-0.1.1\n"
          ]
        }
      ]
    },
    {
      "cell_type": "code",
      "source": [
        "!mkdir -p /content/ShogiAIBook\n",
        "!mkdir -p \"/content/drive/My Drive/ShogiAIBook\"\n",
        "!mkdir -p \"/content/drive/My Drive/ShogiAIBook/model\"\n",
        "!mkdir -p \"/content/drive/My Drive/ShogiAIBook/log\""
      ],
      "metadata": {
        "id": "vv2CZpBfaMfG"
      },
      "execution_count": null,
      "outputs": []
    },
    {
      "cell_type": "code",
      "source": [
        "%cd /content/ShogiAIBook"
      ],
      "metadata": {
        "colab": {
          "base_uri": "https://localhost:8080/"
        },
        "id": "U8J6GHjLaUq-",
        "outputId": "672c5cf3-7a07-4014-a8b1-34c4cae5688b"
      },
      "execution_count": null,
      "outputs": [
        {
          "output_type": "stream",
          "name": "stdout",
          "text": [
            "/content/ShogiAIBook\n"
          ]
        }
      ]
    },
    {
      "cell_type": "code",
      "source": [
        "!ln -s \"/content/drive/My Drive/ShogiAIBook/log\"   ./log\n",
        "!ln -s \"/content/drive/My Drive/ShogiAIBook/model\" ./model\n",
        "!ln -s \"/content/drive/My Drive/shogi/ShogiAIBookData\"   ./data"
      ],
      "metadata": {
        "id": "hwJEDnrxaiUm"
      },
      "execution_count": null,
      "outputs": []
    },
    {
      "cell_type": "code",
      "source": [
        "!ls -ld ./data/*"
      ],
      "metadata": {
        "colab": {
          "base_uri": "https://localhost:8080/"
        },
        "id": "SMEqshSgajpV",
        "outputId": "f3f01670-e652-4307-eb6c-c7b483da2461"
      },
      "execution_count": null,
      "outputs": [
        {
          "output_type": "stream",
          "name": "stdout",
          "text": [
            "-r-------- 1 root root 356250760 Sep 10 23:39 ./data/dlshogi_with_gct-001.hcpe\n",
            "-r-------- 1 root root 356250760 Sep 10 23:39 ./data/dlshogi_with_gct-002.hcpe\n",
            "-r-------- 1 root root 356250760 Sep 10 23:39 ./data/dlshogi_with_gct-003.hcpe\n",
            "-r-------- 1 root root 356250760 Sep 10 23:39 ./data/dlshogi_with_gct-004.hcpe\n",
            "-r-------- 1 root root 356250760 Sep 10 23:39 ./data/dlshogi_with_gct-005.hcpe\n",
            "-r-------- 1 root root 356250760 Sep 10 23:39 ./data/dlshogi_with_gct-006.hcpe\n",
            "-r-------- 1 root root 356250760 Sep 10 23:39 ./data/dlshogi_with_gct-007.hcpe\n",
            "-r-------- 1 root root 356250760 Sep 10 23:39 ./data/dlshogi_with_gct-008.hcpe\n",
            "-r-------- 1 root root 356250760 Sep 10 23:39 ./data/dlshogi_with_gct-009.hcpe\n",
            "-r-------- 1 root root 356250760 Sep 10 23:39 ./data/dlshogi_with_gct-010.hcpe\n",
            "-r-------- 1 root root 356250760 Sep 10 23:39 ./data/dlshogi_with_gct-011.hcpe\n",
            "-r-------- 1 root root 356250760 Sep 10 23:39 ./data/dlshogi_with_gct-012.hcpe\n",
            "-r-------- 1 root root 356250760 Sep 10 23:39 ./data/dlshogi_with_gct-013.hcpe\n",
            "-r-------- 1 root root 356250760 Sep 10 23:39 ./data/dlshogi_with_gct-014.hcpe\n",
            "-r-------- 1 root root 356250760 Sep 10 23:39 ./data/dlshogi_with_gct-015.hcpe\n",
            "-r-------- 1 root root 356250760 Sep 10 23:39 ./data/dlshogi_with_gct-016.hcpe\n",
            "-r-------- 1 root root 356250760 Sep 10 23:39 ./data/dlshogi_with_gct-017.hcpe\n",
            "-r-------- 1 root root 356250760 Sep 10 23:39 ./data/dlshogi_with_gct-018.hcpe\n",
            "-r-------- 1 root root 356250760 Sep 10 23:39 ./data/dlshogi_with_gct-019.hcpe\n",
            "-r-------- 1 root root 356250760 Sep 10 23:39 ./data/dlshogi_with_gct-020.hcpe\n",
            "-r-------- 1 root root 356250760 Sep 10 23:39 ./data/dlshogi_with_gct-021.hcpe\n",
            "-r-------- 1 root root 356250760 Sep 10 23:39 ./data/dlshogi_with_gct-022.hcpe\n",
            "-r-------- 1 root root 356250760 Sep 10 23:39 ./data/dlshogi_with_gct-023.hcpe\n",
            "-r-------- 1 root root 356251368 Sep 10 23:39 ./data/dlshogi_with_gct-024.hcpe\n",
            "-r-------- 1 root root    297632 Sep 12 19:22 ./data/floodgate16.hcp\n",
            "-r-------- 1 root root  11078976 Sep 11 20:51 ./data/floodgate_2019-2021_r3500-001.hcpe\n",
            "-r-------- 1 root root  11078976 Sep 11 20:51 ./data/floodgate_2019-2021_r3500-002.hcpe\n",
            "-r-------- 1 root root  11078976 Sep 11 20:51 ./data/floodgate_2019-2021_r3500-003.hcpe\n",
            "-r-------- 1 root root  11078976 Sep 11 20:51 ./data/floodgate_2019-2021_r3500-004.hcpe\n",
            "-r-------- 1 root root  11078976 Sep 11 20:51 ./data/floodgate_2019-2021_r3500-005.hcpe\n",
            "-r-------- 1 root root  11078976 Sep 11 20:51 ./data/floodgate_2019-2021_r3500-006.hcpe\n",
            "-r-------- 1 root root  11078976 Sep 11 20:51 ./data/floodgate_2019-2021_r3500-007.hcpe\n",
            "-r-------- 1 root root  11078976 Sep 11 20:51 ./data/floodgate_2019-2021_r3500-008.hcpe\n",
            "-r-------- 1 root root  11078976 Sep 11 20:51 ./data/floodgate_2019-2021_r3500-009.hcpe\n",
            "-r-------- 1 root root  11078976 Sep 11 20:51 ./data/floodgate_2019-2021_r3500-010.hcpe\n",
            "-r-------- 1 root root  11078976 Sep 11 20:51 ./data/floodgate_2019-2021_r3500-011.hcpe\n",
            "-r-------- 1 root root  11078976 Sep 11 20:51 ./data/floodgate_2019-2021_r3500-012.hcpe\n",
            "-r-------- 1 root root  11078976 Sep 11 20:51 ./data/floodgate_2019-2021_r3500-013.hcpe\n",
            "-r-------- 1 root root  11078976 Sep 11 20:51 ./data/floodgate_2019-2021_r3500-014.hcpe\n",
            "-r-------- 1 root root  11078976 Sep 11 20:51 ./data/floodgate_2019-2021_r3500-015.hcpe\n",
            "-r-------- 1 root root  11078976 Sep 11 20:51 ./data/floodgate_2019-2021_r3500-016.hcpe\n",
            "-r-------- 1 root root  11078976 Sep 11 20:51 ./data/floodgate_2019-2021_r3500-017.hcpe\n",
            "-r-------- 1 root root  11078976 Sep 11 20:51 ./data/floodgate_2019-2021_r3500-018.hcpe\n",
            "-r-------- 1 root root  11078976 Sep 11 20:51 ./data/floodgate_2019-2021_r3500-019.hcpe\n",
            "-r-------- 1 root root  11078976 Sep 11 20:51 ./data/floodgate_2019-2021_r3500-020.hcpe\n",
            "-r-------- 1 root root  11078976 Sep 11 20:51 ./data/floodgate_2019-2021_r3500-021.hcpe\n",
            "-r-------- 1 root root  11078976 Sep 11 20:51 ./data/floodgate_2019-2021_r3500-022.hcpe\n",
            "-r-------- 1 root root  11078976 Sep 11 20:51 ./data/floodgate_2019-2021_r3500-023.hcpe\n",
            "-r-------- 1 root root  11079356 Sep 11 20:51 ./data/floodgate_2019-2021_r3500-024.hcpe\n",
            "-r-------- 1 root root  24320000 Sep 11 20:52 ./data/floodgate_test_2017-2018_r3500_eval5000.hcpe\n",
            "dr-x------ 2 root root      4096 Oct 11 01:28 ./data/log\n",
            "dr-x------ 2 root root      4096 Oct 11 01:29 ./data/model\n",
            "-r-------- 1 root root  55417414 Sep 10 23:50 ./data/suisho3kai-001.hcpe\n",
            "-r-------- 1 root root  55417414 Sep 10 23:50 ./data/suisho3kai-002.hcpe\n",
            "-r-------- 1 root root  55417414 Sep 10 23:50 ./data/suisho3kai-003.hcpe\n",
            "-r-------- 1 root root  55417414 Sep 10 23:50 ./data/suisho3kai-004.hcpe\n",
            "-r-------- 1 root root  55417414 Sep 10 23:50 ./data/suisho3kai-005.hcpe\n",
            "-r-------- 1 root root  55417414 Sep 10 23:50 ./data/suisho3kai-006.hcpe\n",
            "-r-------- 1 root root  55417414 Sep 10 23:50 ./data/suisho3kai-007.hcpe\n",
            "-r-------- 1 root root  55417414 Sep 10 23:50 ./data/suisho3kai-008.hcpe\n",
            "-r-------- 1 root root  55417414 Sep 10 23:50 ./data/suisho3kai-009.hcpe\n",
            "-r-------- 1 root root  55417414 Sep 10 23:50 ./data/suisho3kai-010.hcpe\n",
            "-r-------- 1 root root  55417414 Sep 10 23:50 ./data/suisho3kai-011.hcpe\n",
            "-r-------- 1 root root  55417414 Sep 10 23:50 ./data/suisho3kai-012.hcpe\n",
            "-r-------- 1 root root  55417414 Sep 10 23:50 ./data/suisho3kai-013.hcpe\n",
            "-r-------- 1 root root  55417414 Sep 10 23:50 ./data/suisho3kai-014.hcpe\n",
            "-r-------- 1 root root  55417414 Sep 10 23:50 ./data/suisho3kai-015.hcpe\n",
            "-r-------- 1 root root  55417414 Sep 10 23:50 ./data/suisho3kai-016.hcpe\n",
            "-r-------- 1 root root  55417414 Sep 10 23:50 ./data/suisho3kai-017.hcpe\n",
            "-r-------- 1 root root  55417414 Sep 10 23:50 ./data/suisho3kai-018.hcpe\n",
            "-r-------- 1 root root  55417414 Sep 10 23:50 ./data/suisho3kai-019.hcpe\n",
            "-r-------- 1 root root  55417414 Sep 10 23:50 ./data/suisho3kai-020.hcpe\n",
            "-r-------- 1 root root  55417414 Sep 10 23:50 ./data/suisho3kai-021.hcpe\n",
            "-r-------- 1 root root  55417414 Sep 10 23:50 ./data/suisho3kai-022.hcpe\n",
            "-r-------- 1 root root  55417414 Sep 10 23:50 ./data/suisho3kai-023.hcpe\n",
            "-r-------- 1 root root  55417870 Sep 10 23:50 ./data/suisho3kai-024.hcpe\n"
          ]
        }
      ]
    },
    {
      "cell_type": "code",
      "source": [
        "!cp ./data/model/checkpoint_resnet10_swish-072.pth ./model/\n",
        "!cp ./data/model/model_resnet10_swish-072 ./model/"
      ],
      "metadata": {
        "id": "64oy_aT2aqnp"
      },
      "execution_count": null,
      "outputs": []
    },
    {
      "cell_type": "code",
      "source": [
        "!ls -l ./model/"
      ],
      "metadata": {
        "colab": {
          "base_uri": "https://localhost:8080/"
        },
        "id": "yEH2QBexbT7N",
        "outputId": "301299ca-ae85-4abc-cde5-8d8a35cfabd1"
      },
      "execution_count": null,
      "outputs": [
        {
          "output_type": "stream",
          "name": "stdout",
          "text": [
            "total 112972\n",
            "-rw------- 1 root root 88334907 Jan 12 22:18 checkpoint_resnet10_swish-072.pth\n",
            "-rw------- 1 root root 27347240 Jan 12 22:18 model_resnet10_swish-072\n"
          ]
        }
      ]
    },
    {
      "cell_type": "code",
      "source": [
        "!python -m dlshogi.convert_model_to_onnx --network resnet10_swish ./model/model_resnet10_swish-072 ./model/model_resnet10_swish-072.onnx"
      ],
      "metadata": {
        "colab": {
          "base_uri": "https://localhost:8080/"
        },
        "id": "3-dG5eFNbjE9",
        "outputId": "c87207f6-16b0-444a-bef1-f08ce26f4ddf"
      },
      "execution_count": null,
      "outputs": [
        {
          "output_type": "stream",
          "name": "stdout",
          "text": [
            "graph(%input1 : Float(*, 62, 9, 9, strides=[5022, 81, 9, 1], requires_grad=0, device=cuda:0),\n",
            "      %input2 : Float(*, 57, 9, 9, strides=[4617, 81, 9, 1], requires_grad=0, device=cuda:0),\n",
            "      %l1_1_1.weight : Float(192, 62, 3, 3, strides=[558, 9, 3, 1], requires_grad=1, device=cuda:0),\n",
            "      %l1_1_2.weight : Float(192, 62, 1, 1, strides=[62, 1, 1, 1], requires_grad=1, device=cuda:0),\n",
            "      %l1_2.weight : Float(192, 57, 1, 1, strides=[57, 1, 1, 1], requires_grad=1, device=cuda:0),\n",
            "      %l22.weight : Float(27, 192, 1, 1, strides=[192, 1, 1, 1], requires_grad=1, device=cuda:0),\n",
            "      %l22_2.bias : Float(2187, strides=[1], requires_grad=1, device=cuda:0),\n",
            "      %l23_v.weight : Float(256, 2187, strides=[2187, 1], requires_grad=1, device=cuda:0),\n",
            "      %l23_v.bias : Float(256, strides=[1], requires_grad=1, device=cuda:0),\n",
            "      %l24_v.weight : Float(1, 256, strides=[256, 1], requires_grad=1, device=cuda:0),\n",
            "      %l24_v.bias : Float(1, strides=[1], requires_grad=1, device=cuda:0),\n",
            "      %norm1.weight : Float(192, strides=[1], requires_grad=1, device=cuda:0),\n",
            "      %norm1.bias : Float(192, strides=[1], requires_grad=1, device=cuda:0),\n",
            "      %norm1.running_mean : Float(192, strides=[1], requires_grad=0, device=cuda:0),\n",
            "      %norm1.running_var : Float(192, strides=[1], requires_grad=0, device=cuda:0),\n",
            "      %254 : Float(192, 192, 3, 3, strides=[1728, 9, 3, 1], requires_grad=0, device=cuda:0),\n",
            "      %255 : Float(192, strides=[1], requires_grad=0, device=cuda:0),\n",
            "      %257 : Float(192, 192, 3, 3, strides=[1728, 9, 3, 1], requires_grad=0, device=cuda:0),\n",
            "      %258 : Float(192, strides=[1], requires_grad=0, device=cuda:0),\n",
            "      %260 : Float(192, 192, 3, 3, strides=[1728, 9, 3, 1], requires_grad=0, device=cuda:0),\n",
            "      %261 : Float(192, strides=[1], requires_grad=0, device=cuda:0),\n",
            "      %263 : Float(192, 192, 3, 3, strides=[1728, 9, 3, 1], requires_grad=0, device=cuda:0),\n",
            "      %264 : Float(192, strides=[1], requires_grad=0, device=cuda:0),\n",
            "      %266 : Float(192, 192, 3, 3, strides=[1728, 9, 3, 1], requires_grad=0, device=cuda:0),\n",
            "      %267 : Float(192, strides=[1], requires_grad=0, device=cuda:0),\n",
            "      %269 : Float(192, 192, 3, 3, strides=[1728, 9, 3, 1], requires_grad=0, device=cuda:0),\n",
            "      %270 : Float(192, strides=[1], requires_grad=0, device=cuda:0),\n",
            "      %272 : Float(192, 192, 3, 3, strides=[1728, 9, 3, 1], requires_grad=0, device=cuda:0),\n",
            "      %273 : Float(192, strides=[1], requires_grad=0, device=cuda:0),\n",
            "      %275 : Float(192, 192, 3, 3, strides=[1728, 9, 3, 1], requires_grad=0, device=cuda:0),\n",
            "      %276 : Float(192, strides=[1], requires_grad=0, device=cuda:0),\n",
            "      %278 : Float(192, 192, 3, 3, strides=[1728, 9, 3, 1], requires_grad=0, device=cuda:0),\n",
            "      %279 : Float(192, strides=[1], requires_grad=0, device=cuda:0),\n",
            "      %281 : Float(192, 192, 3, 3, strides=[1728, 9, 3, 1], requires_grad=0, device=cuda:0),\n",
            "      %282 : Float(192, strides=[1], requires_grad=0, device=cuda:0),\n",
            "      %284 : Float(192, 192, 3, 3, strides=[1728, 9, 3, 1], requires_grad=0, device=cuda:0),\n",
            "      %285 : Float(192, strides=[1], requires_grad=0, device=cuda:0),\n",
            "      %287 : Float(192, 192, 3, 3, strides=[1728, 9, 3, 1], requires_grad=0, device=cuda:0),\n",
            "      %288 : Float(192, strides=[1], requires_grad=0, device=cuda:0),\n",
            "      %290 : Float(192, 192, 3, 3, strides=[1728, 9, 3, 1], requires_grad=0, device=cuda:0),\n",
            "      %291 : Float(192, strides=[1], requires_grad=0, device=cuda:0),\n",
            "      %293 : Float(192, 192, 3, 3, strides=[1728, 9, 3, 1], requires_grad=0, device=cuda:0),\n",
            "      %294 : Float(192, strides=[1], requires_grad=0, device=cuda:0),\n",
            "      %296 : Float(192, 192, 3, 3, strides=[1728, 9, 3, 1], requires_grad=0, device=cuda:0),\n",
            "      %297 : Float(192, strides=[1], requires_grad=0, device=cuda:0),\n",
            "      %299 : Float(192, 192, 3, 3, strides=[1728, 9, 3, 1], requires_grad=0, device=cuda:0),\n",
            "      %300 : Float(192, strides=[1], requires_grad=0, device=cuda:0),\n",
            "      %302 : Float(192, 192, 3, 3, strides=[1728, 9, 3, 1], requires_grad=0, device=cuda:0),\n",
            "      %303 : Float(192, strides=[1], requires_grad=0, device=cuda:0),\n",
            "      %305 : Float(192, 192, 3, 3, strides=[1728, 9, 3, 1], requires_grad=0, device=cuda:0),\n",
            "      %306 : Float(192, strides=[1], requires_grad=0, device=cuda:0),\n",
            "      %308 : Float(192, 192, 3, 3, strides=[1728, 9, 3, 1], requires_grad=0, device=cuda:0),\n",
            "      %309 : Float(192, strides=[1], requires_grad=0, device=cuda:0),\n",
            "      %311 : Float(192, 192, 3, 3, strides=[1728, 9, 3, 1], requires_grad=0, device=cuda:0),\n",
            "      %312 : Float(192, strides=[1], requires_grad=0, device=cuda:0),\n",
            "      %314 : Float(27, 192, 1, 1, strides=[192, 1, 1, 1], requires_grad=0, device=cuda:0),\n",
            "      %315 : Float(27, strides=[1], requires_grad=0, device=cuda:0)):\n",
            "  %142 : Float(*, 192, 9, 9, strides=[15552, 81, 9, 1], requires_grad=1, device=cuda:0) = onnx::Conv[dilations=[1, 1], group=1, kernel_shape=[3, 3], pads=[1, 1, 1, 1], strides=[1, 1]](%input1, %l1_1_1.weight) # /usr/local/lib/python3.7/dist-packages/torch/nn/modules/conv.py:443:0\n",
            "  %143 : Float(*, 192, 9, 9, strides=[15552, 81, 9, 1], requires_grad=1, device=cuda:0) = onnx::Conv[dilations=[1, 1], group=1, kernel_shape=[1, 1], pads=[0, 0, 0, 0], strides=[1, 1]](%input1, %l1_1_2.weight) # /usr/local/lib/python3.7/dist-packages/torch/nn/modules/conv.py:443:0\n",
            "  %144 : Float(*, 192, 9, 9, strides=[15552, 81, 9, 1], requires_grad=1, device=cuda:0) = onnx::Conv[dilations=[1, 1], group=1, kernel_shape=[1, 1], pads=[0, 0, 0, 0], strides=[1, 1]](%input2, %l1_2.weight) # /usr/local/lib/python3.7/dist-packages/torch/nn/modules/conv.py:443:0\n",
            "  %145 : Float(*, 192, 9, 9, strides=[15552, 81, 9, 1], requires_grad=1, device=cuda:0) = onnx::Add(%142, %143) # /usr/local/lib/python3.7/dist-packages/dlshogi/network/policy_value_network_resnet10_swish.py:86:0\n",
            "  %146 : Float(*, 192, 9, 9, strides=[15552, 81, 9, 1], requires_grad=1, device=cuda:0) = onnx::Add(%145, %144) # /usr/local/lib/python3.7/dist-packages/dlshogi/network/policy_value_network_resnet10_swish.py:86:0\n",
            "  %147 : Float(*, 192, 9, 9, strides=[15552, 81, 9, 1], requires_grad=1, device=cuda:0) = onnx::BatchNormalization[epsilon=1.0000000000000001e-05, momentum=0.90000000000000002](%146, %norm1.weight, %norm1.bias, %norm1.running_mean, %norm1.running_var) # /usr/local/lib/python3.7/dist-packages/torch/nn/functional.py:2283:0\n",
            "  %148 : Float(*, 192, 9, 9, strides=[15552, 81, 9, 1], requires_grad=1, device=cuda:0) = onnx::Sigmoid(%147) # /usr/local/lib/python3.7/dist-packages/dlshogi/network/policy_value_network_resnet10_swish.py:18:0\n",
            "  %149 : Float(*, 192, 9, 9, strides=[15552, 81, 9, 1], requires_grad=1, device=cuda:0) = onnx::Mul(%147, %148) # /usr/local/lib/python3.7/dist-packages/dlshogi/network/policy_value_network_resnet10_swish.py:18:0\n",
            "  %253 : Float(*, 192, 9, 9, strides=[15552, 81, 9, 1], requires_grad=1, device=cuda:0) = onnx::Conv[dilations=[1, 1], group=1, kernel_shape=[3, 3], pads=[1, 1, 1, 1], strides=[1, 1]](%149, %254, %255)\n",
            "  %152 : Float(*, 192, 9, 9, strides=[15552, 81, 9, 1], requires_grad=1, device=cuda:0) = onnx::Sigmoid(%253) # /usr/local/lib/python3.7/dist-packages/dlshogi/network/policy_value_network_resnet10_swish.py:18:0\n",
            "  %153 : Float(*, 192, 9, 9, strides=[15552, 81, 9, 1], requires_grad=1, device=cuda:0) = onnx::Mul(%253, %152) # /usr/local/lib/python3.7/dist-packages/dlshogi/network/policy_value_network_resnet10_swish.py:18:0\n",
            "  %256 : Float(*, 192, 9, 9, strides=[15552, 81, 9, 1], requires_grad=1, device=cuda:0) = onnx::Conv[dilations=[1, 1], group=1, kernel_shape=[3, 3], pads=[1, 1, 1, 1], strides=[1, 1]](%153, %257, %258)\n",
            "  %156 : Float(*, 192, 9, 9, strides=[15552, 81, 9, 1], requires_grad=1, device=cuda:0) = onnx::Add(%256, %149) # /usr/local/lib/python3.7/dist-packages/dlshogi/network/policy_value_network_resnet10_swish.py:90:0\n",
            "  %157 : Float(*, 192, 9, 9, strides=[15552, 81, 9, 1], requires_grad=1, device=cuda:0) = onnx::Sigmoid(%156) # /usr/local/lib/python3.7/dist-packages/dlshogi/network/policy_value_network_resnet10_swish.py:18:0\n",
            "  %158 : Float(*, 192, 9, 9, strides=[15552, 81, 9, 1], requires_grad=1, device=cuda:0) = onnx::Mul(%156, %157) # /usr/local/lib/python3.7/dist-packages/dlshogi/network/policy_value_network_resnet10_swish.py:18:0\n",
            "  %259 : Float(*, 192, 9, 9, strides=[15552, 81, 9, 1], requires_grad=1, device=cuda:0) = onnx::Conv[dilations=[1, 1], group=1, kernel_shape=[3, 3], pads=[1, 1, 1, 1], strides=[1, 1]](%158, %260, %261)\n",
            "  %161 : Float(*, 192, 9, 9, strides=[15552, 81, 9, 1], requires_grad=1, device=cuda:0) = onnx::Sigmoid(%259) # /usr/local/lib/python3.7/dist-packages/dlshogi/network/policy_value_network_resnet10_swish.py:18:0\n",
            "  %162 : Float(*, 192, 9, 9, strides=[15552, 81, 9, 1], requires_grad=1, device=cuda:0) = onnx::Mul(%259, %161) # /usr/local/lib/python3.7/dist-packages/dlshogi/network/policy_value_network_resnet10_swish.py:18:0\n",
            "  %262 : Float(*, 192, 9, 9, strides=[15552, 81, 9, 1], requires_grad=1, device=cuda:0) = onnx::Conv[dilations=[1, 1], group=1, kernel_shape=[3, 3], pads=[1, 1, 1, 1], strides=[1, 1]](%162, %263, %264)\n",
            "  %165 : Float(*, 192, 9, 9, strides=[15552, 81, 9, 1], requires_grad=1, device=cuda:0) = onnx::Add(%262, %158) # /usr/local/lib/python3.7/dist-packages/dlshogi/network/policy_value_network_resnet10_swish.py:94:0\n",
            "  %166 : Float(*, 192, 9, 9, strides=[15552, 81, 9, 1], requires_grad=1, device=cuda:0) = onnx::Sigmoid(%165) # /usr/local/lib/python3.7/dist-packages/dlshogi/network/policy_value_network_resnet10_swish.py:18:0\n",
            "  %167 : Float(*, 192, 9, 9, strides=[15552, 81, 9, 1], requires_grad=1, device=cuda:0) = onnx::Mul(%165, %166) # /usr/local/lib/python3.7/dist-packages/dlshogi/network/policy_value_network_resnet10_swish.py:18:0\n",
            "  %265 : Float(*, 192, 9, 9, strides=[15552, 81, 9, 1], requires_grad=1, device=cuda:0) = onnx::Conv[dilations=[1, 1], group=1, kernel_shape=[3, 3], pads=[1, 1, 1, 1], strides=[1, 1]](%167, %266, %267)\n",
            "  %170 : Float(*, 192, 9, 9, strides=[15552, 81, 9, 1], requires_grad=1, device=cuda:0) = onnx::Sigmoid(%265) # /usr/local/lib/python3.7/dist-packages/dlshogi/network/policy_value_network_resnet10_swish.py:18:0\n",
            "  %171 : Float(*, 192, 9, 9, strides=[15552, 81, 9, 1], requires_grad=1, device=cuda:0) = onnx::Mul(%265, %170) # /usr/local/lib/python3.7/dist-packages/dlshogi/network/policy_value_network_resnet10_swish.py:18:0\n",
            "  %268 : Float(*, 192, 9, 9, strides=[15552, 81, 9, 1], requires_grad=1, device=cuda:0) = onnx::Conv[dilations=[1, 1], group=1, kernel_shape=[3, 3], pads=[1, 1, 1, 1], strides=[1, 1]](%171, %269, %270)\n",
            "  %174 : Float(*, 192, 9, 9, strides=[15552, 81, 9, 1], requires_grad=1, device=cuda:0) = onnx::Add(%268, %167) # /usr/local/lib/python3.7/dist-packages/dlshogi/network/policy_value_network_resnet10_swish.py:98:0\n",
            "  %175 : Float(*, 192, 9, 9, strides=[15552, 81, 9, 1], requires_grad=1, device=cuda:0) = onnx::Sigmoid(%174) # /usr/local/lib/python3.7/dist-packages/dlshogi/network/policy_value_network_resnet10_swish.py:18:0\n",
            "  %176 : Float(*, 192, 9, 9, strides=[15552, 81, 9, 1], requires_grad=1, device=cuda:0) = onnx::Mul(%174, %175) # /usr/local/lib/python3.7/dist-packages/dlshogi/network/policy_value_network_resnet10_swish.py:18:0\n",
            "  %271 : Float(*, 192, 9, 9, strides=[15552, 81, 9, 1], requires_grad=1, device=cuda:0) = onnx::Conv[dilations=[1, 1], group=1, kernel_shape=[3, 3], pads=[1, 1, 1, 1], strides=[1, 1]](%176, %272, %273)\n",
            "  %179 : Float(*, 192, 9, 9, strides=[15552, 81, 9, 1], requires_grad=1, device=cuda:0) = onnx::Sigmoid(%271) # /usr/local/lib/python3.7/dist-packages/dlshogi/network/policy_value_network_resnet10_swish.py:18:0\n",
            "  %180 : Float(*, 192, 9, 9, strides=[15552, 81, 9, 1], requires_grad=1, device=cuda:0) = onnx::Mul(%271, %179) # /usr/local/lib/python3.7/dist-packages/dlshogi/network/policy_value_network_resnet10_swish.py:18:0\n",
            "  %274 : Float(*, 192, 9, 9, strides=[15552, 81, 9, 1], requires_grad=1, device=cuda:0) = onnx::Conv[dilations=[1, 1], group=1, kernel_shape=[3, 3], pads=[1, 1, 1, 1], strides=[1, 1]](%180, %275, %276)\n",
            "  %183 : Float(*, 192, 9, 9, strides=[15552, 81, 9, 1], requires_grad=1, device=cuda:0) = onnx::Add(%274, %176) # /usr/local/lib/python3.7/dist-packages/dlshogi/network/policy_value_network_resnet10_swish.py:102:0\n",
            "  %184 : Float(*, 192, 9, 9, strides=[15552, 81, 9, 1], requires_grad=1, device=cuda:0) = onnx::Sigmoid(%183) # /usr/local/lib/python3.7/dist-packages/dlshogi/network/policy_value_network_resnet10_swish.py:18:0\n",
            "  %185 : Float(*, 192, 9, 9, strides=[15552, 81, 9, 1], requires_grad=1, device=cuda:0) = onnx::Mul(%183, %184) # /usr/local/lib/python3.7/dist-packages/dlshogi/network/policy_value_network_resnet10_swish.py:18:0\n",
            "  %277 : Float(*, 192, 9, 9, strides=[15552, 81, 9, 1], requires_grad=1, device=cuda:0) = onnx::Conv[dilations=[1, 1], group=1, kernel_shape=[3, 3], pads=[1, 1, 1, 1], strides=[1, 1]](%185, %278, %279)\n",
            "  %188 : Float(*, 192, 9, 9, strides=[15552, 81, 9, 1], requires_grad=1, device=cuda:0) = onnx::Sigmoid(%277) # /usr/local/lib/python3.7/dist-packages/dlshogi/network/policy_value_network_resnet10_swish.py:18:0\n",
            "  %189 : Float(*, 192, 9, 9, strides=[15552, 81, 9, 1], requires_grad=1, device=cuda:0) = onnx::Mul(%277, %188) # /usr/local/lib/python3.7/dist-packages/dlshogi/network/policy_value_network_resnet10_swish.py:18:0\n",
            "  %280 : Float(*, 192, 9, 9, strides=[15552, 81, 9, 1], requires_grad=1, device=cuda:0) = onnx::Conv[dilations=[1, 1], group=1, kernel_shape=[3, 3], pads=[1, 1, 1, 1], strides=[1, 1]](%189, %281, %282)\n",
            "  %192 : Float(*, 192, 9, 9, strides=[15552, 81, 9, 1], requires_grad=1, device=cuda:0) = onnx::Add(%280, %185) # /usr/local/lib/python3.7/dist-packages/dlshogi/network/policy_value_network_resnet10_swish.py:106:0\n",
            "  %193 : Float(*, 192, 9, 9, strides=[15552, 81, 9, 1], requires_grad=1, device=cuda:0) = onnx::Sigmoid(%192) # /usr/local/lib/python3.7/dist-packages/dlshogi/network/policy_value_network_resnet10_swish.py:18:0\n",
            "  %194 : Float(*, 192, 9, 9, strides=[15552, 81, 9, 1], requires_grad=1, device=cuda:0) = onnx::Mul(%192, %193) # /usr/local/lib/python3.7/dist-packages/dlshogi/network/policy_value_network_resnet10_swish.py:18:0\n",
            "  %283 : Float(*, 192, 9, 9, strides=[15552, 81, 9, 1], requires_grad=1, device=cuda:0) = onnx::Conv[dilations=[1, 1], group=1, kernel_shape=[3, 3], pads=[1, 1, 1, 1], strides=[1, 1]](%194, %284, %285)\n",
            "  %197 : Float(*, 192, 9, 9, strides=[15552, 81, 9, 1], requires_grad=1, device=cuda:0) = onnx::Sigmoid(%283) # /usr/local/lib/python3.7/dist-packages/dlshogi/network/policy_value_network_resnet10_swish.py:18:0\n",
            "  %198 : Float(*, 192, 9, 9, strides=[15552, 81, 9, 1], requires_grad=1, device=cuda:0) = onnx::Mul(%283, %197) # /usr/local/lib/python3.7/dist-packages/dlshogi/network/policy_value_network_resnet10_swish.py:18:0\n",
            "  %286 : Float(*, 192, 9, 9, strides=[15552, 81, 9, 1], requires_grad=1, device=cuda:0) = onnx::Conv[dilations=[1, 1], group=1, kernel_shape=[3, 3], pads=[1, 1, 1, 1], strides=[1, 1]](%198, %287, %288)\n",
            "  %201 : Float(*, 192, 9, 9, strides=[15552, 81, 9, 1], requires_grad=1, device=cuda:0) = onnx::Add(%286, %194) # /usr/local/lib/python3.7/dist-packages/dlshogi/network/policy_value_network_resnet10_swish.py:110:0\n",
            "  %202 : Float(*, 192, 9, 9, strides=[15552, 81, 9, 1], requires_grad=1, device=cuda:0) = onnx::Sigmoid(%201) # /usr/local/lib/python3.7/dist-packages/dlshogi/network/policy_value_network_resnet10_swish.py:18:0\n",
            "  %203 : Float(*, 192, 9, 9, strides=[15552, 81, 9, 1], requires_grad=1, device=cuda:0) = onnx::Mul(%201, %202) # /usr/local/lib/python3.7/dist-packages/dlshogi/network/policy_value_network_resnet10_swish.py:18:0\n",
            "  %289 : Float(*, 192, 9, 9, strides=[15552, 81, 9, 1], requires_grad=1, device=cuda:0) = onnx::Conv[dilations=[1, 1], group=1, kernel_shape=[3, 3], pads=[1, 1, 1, 1], strides=[1, 1]](%203, %290, %291)\n",
            "  %206 : Float(*, 192, 9, 9, strides=[15552, 81, 9, 1], requires_grad=1, device=cuda:0) = onnx::Sigmoid(%289) # /usr/local/lib/python3.7/dist-packages/dlshogi/network/policy_value_network_resnet10_swish.py:18:0\n",
            "  %207 : Float(*, 192, 9, 9, strides=[15552, 81, 9, 1], requires_grad=1, device=cuda:0) = onnx::Mul(%289, %206) # /usr/local/lib/python3.7/dist-packages/dlshogi/network/policy_value_network_resnet10_swish.py:18:0\n",
            "  %292 : Float(*, 192, 9, 9, strides=[15552, 81, 9, 1], requires_grad=1, device=cuda:0) = onnx::Conv[dilations=[1, 1], group=1, kernel_shape=[3, 3], pads=[1, 1, 1, 1], strides=[1, 1]](%207, %293, %294)\n",
            "  %210 : Float(*, 192, 9, 9, strides=[15552, 81, 9, 1], requires_grad=1, device=cuda:0) = onnx::Add(%292, %203) # /usr/local/lib/python3.7/dist-packages/dlshogi/network/policy_value_network_resnet10_swish.py:114:0\n",
            "  %211 : Float(*, 192, 9, 9, strides=[15552, 81, 9, 1], requires_grad=1, device=cuda:0) = onnx::Sigmoid(%210) # /usr/local/lib/python3.7/dist-packages/dlshogi/network/policy_value_network_resnet10_swish.py:18:0\n",
            "  %212 : Float(*, 192, 9, 9, strides=[15552, 81, 9, 1], requires_grad=1, device=cuda:0) = onnx::Mul(%210, %211) # /usr/local/lib/python3.7/dist-packages/dlshogi/network/policy_value_network_resnet10_swish.py:18:0\n",
            "  %295 : Float(*, 192, 9, 9, strides=[15552, 81, 9, 1], requires_grad=1, device=cuda:0) = onnx::Conv[dilations=[1, 1], group=1, kernel_shape=[3, 3], pads=[1, 1, 1, 1], strides=[1, 1]](%212, %296, %297)\n",
            "  %215 : Float(*, 192, 9, 9, strides=[15552, 81, 9, 1], requires_grad=1, device=cuda:0) = onnx::Sigmoid(%295) # /usr/local/lib/python3.7/dist-packages/dlshogi/network/policy_value_network_resnet10_swish.py:18:0\n",
            "  %216 : Float(*, 192, 9, 9, strides=[15552, 81, 9, 1], requires_grad=1, device=cuda:0) = onnx::Mul(%295, %215) # /usr/local/lib/python3.7/dist-packages/dlshogi/network/policy_value_network_resnet10_swish.py:18:0\n",
            "  %298 : Float(*, 192, 9, 9, strides=[15552, 81, 9, 1], requires_grad=1, device=cuda:0) = onnx::Conv[dilations=[1, 1], group=1, kernel_shape=[3, 3], pads=[1, 1, 1, 1], strides=[1, 1]](%216, %299, %300)\n",
            "  %219 : Float(*, 192, 9, 9, strides=[15552, 81, 9, 1], requires_grad=1, device=cuda:0) = onnx::Add(%298, %212) # /usr/local/lib/python3.7/dist-packages/dlshogi/network/policy_value_network_resnet10_swish.py:118:0\n",
            "  %220 : Float(*, 192, 9, 9, strides=[15552, 81, 9, 1], requires_grad=1, device=cuda:0) = onnx::Sigmoid(%219) # /usr/local/lib/python3.7/dist-packages/dlshogi/network/policy_value_network_resnet10_swish.py:18:0\n",
            "  %221 : Float(*, 192, 9, 9, strides=[15552, 81, 9, 1], requires_grad=1, device=cuda:0) = onnx::Mul(%219, %220) # /usr/local/lib/python3.7/dist-packages/dlshogi/network/policy_value_network_resnet10_swish.py:18:0\n",
            "  %301 : Float(*, 192, 9, 9, strides=[15552, 81, 9, 1], requires_grad=1, device=cuda:0) = onnx::Conv[dilations=[1, 1], group=1, kernel_shape=[3, 3], pads=[1, 1, 1, 1], strides=[1, 1]](%221, %302, %303)\n",
            "  %224 : Float(*, 192, 9, 9, strides=[15552, 81, 9, 1], requires_grad=1, device=cuda:0) = onnx::Sigmoid(%301) # /usr/local/lib/python3.7/dist-packages/dlshogi/network/policy_value_network_resnet10_swish.py:18:0\n",
            "  %225 : Float(*, 192, 9, 9, strides=[15552, 81, 9, 1], requires_grad=1, device=cuda:0) = onnx::Mul(%301, %224) # /usr/local/lib/python3.7/dist-packages/dlshogi/network/policy_value_network_resnet10_swish.py:18:0\n",
            "  %304 : Float(*, 192, 9, 9, strides=[15552, 81, 9, 1], requires_grad=1, device=cuda:0) = onnx::Conv[dilations=[1, 1], group=1, kernel_shape=[3, 3], pads=[1, 1, 1, 1], strides=[1, 1]](%225, %305, %306)\n",
            "  %228 : Float(*, 192, 9, 9, strides=[15552, 81, 9, 1], requires_grad=1, device=cuda:0) = onnx::Add(%304, %221) # /usr/local/lib/python3.7/dist-packages/dlshogi/network/policy_value_network_resnet10_swish.py:122:0\n",
            "  %229 : Float(*, 192, 9, 9, strides=[15552, 81, 9, 1], requires_grad=1, device=cuda:0) = onnx::Sigmoid(%228) # /usr/local/lib/python3.7/dist-packages/dlshogi/network/policy_value_network_resnet10_swish.py:18:0\n",
            "  %230 : Float(*, 192, 9, 9, strides=[15552, 81, 9, 1], requires_grad=1, device=cuda:0) = onnx::Mul(%228, %229) # /usr/local/lib/python3.7/dist-packages/dlshogi/network/policy_value_network_resnet10_swish.py:18:0\n",
            "  %307 : Float(*, 192, 9, 9, strides=[15552, 81, 9, 1], requires_grad=1, device=cuda:0) = onnx::Conv[dilations=[1, 1], group=1, kernel_shape=[3, 3], pads=[1, 1, 1, 1], strides=[1, 1]](%230, %308, %309)\n",
            "  %233 : Float(*, 192, 9, 9, strides=[15552, 81, 9, 1], requires_grad=1, device=cuda:0) = onnx::Sigmoid(%307) # /usr/local/lib/python3.7/dist-packages/dlshogi/network/policy_value_network_resnet10_swish.py:18:0\n",
            "  %234 : Float(*, 192, 9, 9, strides=[15552, 81, 9, 1], requires_grad=1, device=cuda:0) = onnx::Mul(%307, %233) # /usr/local/lib/python3.7/dist-packages/dlshogi/network/policy_value_network_resnet10_swish.py:18:0\n",
            "  %310 : Float(*, 192, 9, 9, strides=[15552, 81, 9, 1], requires_grad=1, device=cuda:0) = onnx::Conv[dilations=[1, 1], group=1, kernel_shape=[3, 3], pads=[1, 1, 1, 1], strides=[1, 1]](%234, %311, %312)\n",
            "  %237 : Float(*, 192, 9, 9, strides=[15552, 81, 9, 1], requires_grad=1, device=cuda:0) = onnx::Add(%310, %230) # /usr/local/lib/python3.7/dist-packages/dlshogi/network/policy_value_network_resnet10_swish.py:126:0\n",
            "  %238 : Float(*, 192, 9, 9, strides=[15552, 81, 9, 1], requires_grad=1, device=cuda:0) = onnx::Sigmoid(%237) # /usr/local/lib/python3.7/dist-packages/dlshogi/network/policy_value_network_resnet10_swish.py:18:0\n",
            "  %239 : Float(*, 192, 9, 9, strides=[15552, 81, 9, 1], requires_grad=1, device=cuda:0) = onnx::Mul(%237, %238) # /usr/local/lib/python3.7/dist-packages/dlshogi/network/policy_value_network_resnet10_swish.py:18:0\n",
            "  %240 : Float(*, 27, 9, 9, strides=[2187, 81, 9, 1], requires_grad=1, device=cuda:0) = onnx::Conv[dilations=[1, 1], group=1, kernel_shape=[1, 1], pads=[0, 0, 0, 0], strides=[1, 1]](%239, %l22.weight) # /usr/local/lib/python3.7/dist-packages/torch/nn/modules/conv.py:443:0\n",
            "  %241 : Float(*, 2187, strides=[2187, 1], requires_grad=1, device=cuda:0) = onnx::Flatten[axis=1](%240) # /usr/local/lib/python3.7/dist-packages/dlshogi/network/policy_value_network_resnet10_swish.py:129:0\n",
            "  %output_policy : Float(*, 2187, strides=[2187, 1], requires_grad=1, device=cuda:0) = onnx::Add(%241, %l22_2.bias) # /usr/local/lib/python3.7/dist-packages/dlshogi/network/policy_value_network_resnet10_swish.py:13:0\n",
            "  %313 : Float(*, 27, 9, 9, strides=[2187, 81, 9, 1], requires_grad=1, device=cuda:0) = onnx::Conv[dilations=[1, 1], group=1, kernel_shape=[1, 1], pads=[0, 0, 0, 0], strides=[1, 1]](%239, %314, %315)\n",
            "  %245 : Float(*, 27, 9, 9, strides=[2187, 81, 9, 1], requires_grad=1, device=cuda:0) = onnx::Sigmoid(%313) # /usr/local/lib/python3.7/dist-packages/dlshogi/network/policy_value_network_resnet10_swish.py:18:0\n",
            "  %246 : Float(*, 27, 9, 9, strides=[2187, 81, 9, 1], requires_grad=1, device=cuda:0) = onnx::Mul(%313, %245) # /usr/local/lib/python3.7/dist-packages/dlshogi/network/policy_value_network_resnet10_swish.py:18:0\n",
            "  %247 : Float(*, 2187, strides=[2187, 1], requires_grad=1, device=cuda:0) = onnx::Flatten[axis=1](%246) # /usr/local/lib/python3.7/dist-packages/dlshogi/network/policy_value_network_resnet10_swish.py:132:0\n",
            "  %248 : Float(*, 256, strides=[256, 1], requires_grad=1, device=cuda:0) = onnx::Gemm[alpha=1., beta=1., transB=1](%247, %l23_v.weight, %l23_v.bias) # /usr/local/lib/python3.7/dist-packages/torch/nn/functional.py:1848:0\n",
            "  %249 : Float(*, 256, strides=[256, 1], requires_grad=1, device=cuda:0) = onnx::Sigmoid(%248) # /usr/local/lib/python3.7/dist-packages/dlshogi/network/policy_value_network_resnet10_swish.py:18:0\n",
            "  %250 : Float(*, 256, strides=[256, 1], requires_grad=1, device=cuda:0) = onnx::Mul(%248, %249) # /usr/local/lib/python3.7/dist-packages/dlshogi/network/policy_value_network_resnet10_swish.py:18:0\n",
            "  %251 : Float(*, 1, strides=[1, 1], requires_grad=1, device=cuda:0) = onnx::Gemm[alpha=1., beta=1., transB=1](%250, %l24_v.weight, %l24_v.bias) # /usr/local/lib/python3.7/dist-packages/torch/nn/functional.py:1848:0\n",
            "  %output_value : Float(*, 1, strides=[1, 1], requires_grad=1, device=cuda:0) = onnx::Sigmoid(%251) # /usr/local/lib/python3.7/dist-packages/dlshogi/network/policy_value_network.py:31:0\n",
            "  return (%output_policy, %output_value)\n",
            "\n"
          ]
        }
      ]
    },
    {
      "cell_type": "code",
      "source": [
        ""
      ],
      "metadata": {
        "id": "I-gN6lOQb4x-"
      },
      "execution_count": null,
      "outputs": []
    }
  ]
}